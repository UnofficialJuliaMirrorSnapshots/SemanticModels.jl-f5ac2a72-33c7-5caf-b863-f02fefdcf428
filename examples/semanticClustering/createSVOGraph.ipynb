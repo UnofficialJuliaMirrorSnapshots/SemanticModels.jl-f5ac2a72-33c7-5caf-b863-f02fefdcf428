{
 "cells": [
  {
   "cell_type": "code",
   "execution_count": 1,
   "metadata": {
    "scrolled": true
   },
   "outputs": [],
   "source": [
    "using Pkg\n",
    "using DataFrames\n",
    "using CSV\n",
    "using GraphDataFrameBridge\n",
    "using MetaGraphs\n",
    "using LightGraphs"
   ]
  },
  {
   "cell_type": "code",
   "execution_count": 11,
   "metadata": {},
   "outputs": [
    {
     "name": "stderr",
     "output_type": "stream",
     "text": [
      "┌ Warning: readtable is deprecated, use CSV.read from the CSV package instead\n",
      "│   caller = top-level scope at In[11]:1\n",
      "└ @ Core In[11]:1\n"
     ]
    }
   ],
   "source": [
    "df = readtable(\"mergedSVO.csv\")\n",
    "g = MetaDiGraph();\n",
    "set_indexing_prop!(g,:label);\n",
    "for dfr in eachrow(df)    \n",
    "    try\n",
    "        g[dfr.subject,:label]\n",
    "    catch\n",
    "        add_vertex!(g,:label,dfr.subject) # add ags\n",
    "    end\n",
    "        \n",
    "    try\n",
    "        g[dfr.object,:label]\n",
    "    catch\n",
    "        add_vertex!(g,:label,dfr.object) # add rets\n",
    "    end\n",
    "        \n",
    "    try\n",
    "        add_edge!(g,g[dfr.subject,:label],g[dfr.object,:label],:label,dfr.verb)\n",
    "    catch\n",
    "        nothing\n",
    "    end\n",
    "end"
   ]
  },
  {
   "cell_type": "code",
   "execution_count": 9,
   "metadata": {},
   "outputs": [
    {
     "data": {
      "text/plain": [
       "2"
      ]
     },
     "execution_count": 9,
     "metadata": {},
     "output_type": "execute_result"
    }
   ],
   "source": [
    "savegraph(\"final_svoMG.dot\", g, DOTFormat())"
   ]
  },
  {
   "cell_type": "code",
   "execution_count": 10,
   "metadata": {},
   "outputs": [
    {
     "data": {
      "text/plain": [
       "Process(`\u001b[4mdot\u001b[24m \u001b[4m-Tsvg\u001b[24m \u001b[4m-O\u001b[24m \u001b[4mfinal_svoMG.dot\u001b[24m`, ProcessExited(0))"
      ]
     },
     "execution_count": 10,
     "metadata": {},
     "output_type": "execute_result"
    }
   ],
   "source": [
    "run(`dot -Tsvg -O final_svoMG.dot`)"
   ]
  },
  {
   "cell_type": "code",
   "execution_count": null,
   "metadata": {},
   "outputs": [],
   "source": []
  }
 ],
 "metadata": {
  "kernelspec": {
   "display_name": "Julia 1.0.3",
   "language": "julia",
   "name": "julia-1.0"
  },
  "language_info": {
   "file_extension": ".jl",
   "mimetype": "application/julia",
   "name": "julia",
   "version": "1.0.3"
  }
 },
 "nbformat": 4,
 "nbformat_minor": 2
}
