{
 "cells": [
  {
   "cell_type": "code",
   "execution_count": null,
   "metadata": {},
   "outputs": [],
   "source": [
    "import os\n",
    "import logging\n",
    "import spacy\n",
    "import subjectVerbObjectExtractUtil as svoExtract\n",
    "import experimentUtil as expUtil\n",
    "import mergeGraphUtil as mergeUtil\n",
    "logging.basicConfig(format='%(asctime)s %(message)s', level=logging.INFO)\n",
    "logging.getLogger().setLevel(logging.INFO)"
   ]
  },
  {
   "cell_type": "code",
   "execution_count": null,
   "metadata": {},
   "outputs": [],
   "source": [
    "INTRO_MD_DIR = \"introMDFiles\"\n",
    "CLEAN_INTRO_MD_DIR = \"cleanedTexts\"\n",
    "SUBJECT_OBJECT_VERB_CSV = \"svo.csv\""
   ]
  },
  {
   "cell_type": "code",
   "execution_count": 3,
   "metadata": {},
   "outputs": [
    {
     "name": "stderr",
     "output_type": "stream",
     "text": [
      "2019-03-27 10:50:16,731 cleanedTexts/semiparametric.txt file created\n",
      "2019-03-27 10:50:16,735 cleanedTexts/khan.txt file created\n",
      "2019-03-27 10:50:16,739 cleanedTexts/sis_intro.txt file created\n",
      "2019-03-27 10:50:16,743 cleanedTexts/seird_stochastic.txt file created\n",
      "2019-03-27 10:50:16,747 cleanedTexts/karlsson.txt file created\n",
      "2019-03-27 10:50:16,750 cleanedTexts/ross.txt file created\n",
      "2019-03-27 10:50:16,755 cleanedTexts/coalescent.txt file created\n",
      "2019-03-27 10:50:16,758 cleanedTexts/mayanderson.txt file created\n",
      "2019-03-27 10:50:16,763 cleanedTexts/deleo.txt file created\n",
      "2019-03-27 10:50:16,770 cleanedTexts/sir_model_intro.txt file created\n",
      "2019-03-27 10:50:16,777 cleanedTexts/lloydjansen.txt file created\n",
      "2019-03-27 10:50:16,781 cleanedTexts/erlang.txt file created\n",
      "2019-03-27 10:50:16,787 cleanedTexts/blackross.txt file created\n",
      "2019-03-27 10:50:16,793 cleanedTexts/1host1vector.txt file created\n",
      "2019-03-27 10:50:16,798 cleanedTexts/seir_intro.txt file created\n"
     ]
    }
   ],
   "source": [
    "#Clean and Extract Text from Intro.md Files\n",
    "\n",
    "for file in os.listdir(INTRO_MD_DIR):\n",
    "    input_file_string = open(os.path.join(INTRO_MD_DIR, file), encoding=\"utf-8\").read()\n",
    "    proccessedText = svoExtract.extract(input_file_string)\n",
    "    outputFileName, _ = os.path.splitext(file)\n",
    "    outputFileName = os.path.join(CLEAN_INTRO_MD_DIR, outputFileName)\n",
    "    outputFileName += \".txt\"\n",
    "    \n",
    "    with open(outputFileName, 'w') as filetowrite:\n",
    "        filetowrite.write(proccessedText)\n",
    "        filetowrite.close()\n",
    "        \n",
    "    logging.info(outputFileName + \" file created\")"
   ]
  },
  {
   "cell_type": "code",
   "execution_count": 4,
   "metadata": {},
   "outputs": [
    {
     "name": "stderr",
     "output_type": "stream",
     "text": [
      "2019-03-27 10:50:16,855 writing 4 tuples\n",
      "2019-03-27 10:50:16,858 Skipping file .DS_Store\n",
      "2019-03-27 10:50:16,921 writing 1 tuples\n",
      "2019-03-27 10:50:17,052 writing 20 tuples\n",
      "2019-03-27 10:50:17,092 writing 2 tuples\n",
      "2019-03-27 10:50:17,127 writing 0 tuples\n",
      "2019-03-27 10:50:17,221 writing 3 tuples\n",
      "2019-03-27 10:50:17,271 writing 12 tuples\n",
      "2019-03-27 10:50:17,353 writing 2 tuples\n",
      "2019-03-27 10:50:17,477 writing 23 tuples\n",
      "2019-03-27 10:50:17,523 writing 7 tuples\n",
      "2019-03-27 10:50:17,561 writing 1 tuples\n",
      "2019-03-27 10:50:17,597 writing 7 tuples\n",
      "2019-03-27 10:50:17,643 writing 5 tuples\n",
      "2019-03-27 10:50:17,756 writing 22 tuples\n",
      "2019-03-27 10:50:17,785 writing 3 tuples\n",
      "2019-03-27 10:50:17,788 File svo.csv created\n"
     ]
    }
   ],
   "source": [
    "#Extract Subject Verb Object\n",
    "#Creates subject verb object csv file\n",
    "svoExtract.extractSVO(CLEAN_INTRO_MD_DIR)"
   ]
  },
  {
   "cell_type": "code",
   "execution_count": 5,
   "metadata": {},
   "outputs": [
    {
     "data": {
      "text/plain": [
       "umap.umap_.UMAP"
      ]
     },
     "execution_count": 5,
     "metadata": {},
     "output_type": "execute_result"
    }
   ],
   "source": [
    "import umap\n",
    "umap.UMAP"
   ]
  },
  {
   "cell_type": "code",
   "execution_count": 6,
   "metadata": {},
   "outputs": [],
   "source": [
    "# Creates CSV of UMAP and DBSCAN Clusters and InSample Vs OutSample Similarities\n",
    "# Outputs clusteringLabels.csv\n",
    "\n",
    "#expUtil.createCluster(SUBJECT_OBJECT_VERB_CSV)"
   ]
  },
  {
   "cell_type": "code",
   "execution_count": 9,
   "metadata": {},
   "outputs": [
    {
     "name": "stdout",
     "output_type": "stream",
     "text": [
      "250\n",
      "<class 'numpy.ndarray'> <class 'int'> <class 'numpy.ndarray'>\n"
     ]
    },
    {
     "name": "stderr",
     "output_type": "stream",
     "text": [
      "2019-03-25 11:09:17,860 generating CSV ExperimentData/KmeansCluster.csv\n",
      "2019-03-25 11:09:17,864 generating CSV ExperimentData/KmeansPredicted.csv\n",
      "2019-03-25 11:09:17,873 KMeans Accuracy is : 0.2222222222222222\n"
     ]
    }
   ],
   "source": [
    "# Get Kmeans Experiment Accuracy\n",
    "# Assigns Cluster Labels to Variable Inputs to KMeansPredicted.csv and computes accuracy by taking the difference\n",
    "# with the ground truth labels in JuliaDataVariable.csv\n",
    "expUtil.runKMeansExp()"
   ]
  },
  {
   "cell_type": "code",
   "execution_count": null,
   "metadata": {},
   "outputs": [],
   "source": [
    "# Uses cluster that is most \"similar\" to the variable for cluster assignment\n",
    "expUtil.runUMapSimilarityExp()"
   ]
  },
  {
   "cell_type": "code",
   "execution_count": 6,
   "metadata": {},
   "outputs": [
    {
     "name": "stdout",
     "output_type": "stream",
     "text": [
      "<class 'numpy.ndarray'> <class 'int'> <class 'numpy.ndarray'>\n"
     ]
    },
    {
     "name": "stderr",
     "output_type": "stream",
     "text": [
      "2019-03-27 10:51:04,546 generating CSV ExperimentData/KmeansCluster.csv\n",
      "2019-03-27 10:51:32,841 generating CSV ExperimentData/KmeansPredicted.csv\n",
      "2019-03-27 10:51:32,908 Intersection Threshold is: 0.5500000000000002\n"
     ]
    },
    {
     "data": {
      "image/png": "[encoded data removed]",
      "text/plain": [
       "<Figure size 432x288 with 1 Axes>"
      ]
     },
     "metadata": {
      "needs_background": "light"
     },
     "output_type": "display_data"
    }
   ],
   "source": [
    "# Uses KMeans for cluster assignment, computes the similarity of the assignment with nodes\n",
    "# that also belong to the cluster assignment \n",
    "averageSimArray = expUtil.runCombinationExp()"
   ]
  },
  {
   "cell_type": "code",
   "execution_count": 7,
   "metadata": {},
   "outputs": [
    {
     "name": "stderr",
     "output_type": "stream",
     "text": [
      "2019-03-25 13:55:20,344 mergedSVO.csv Created\n"
     ]
    }
   ],
   "source": [
    "#Creates Final CSV to create metaGraph\n",
    "\n",
    "#Minimum threshold to merge 2 nodes from extracted subject verb objects\n",
    "ClusterThreshold = .85\n",
    "\n",
    "#Minimum threshold to assign variable to a cluster\n",
    "VariableThreshold = .5\n",
    "\n",
    "mergeUtil.createFinalGraph(ClusterThreshold, VariableThreshold, averageSimArray)"
   ]
  },
  {
   "cell_type": "code",
   "execution_count": null,
   "metadata": {},
   "outputs": [],
   "source": [
    "'''\n",
    "The idea behind this experiment is to create a set of clusters using the Training data extracted\n",
    "from the cleaned versions of the intro.md files and then assign the variables extracted\n",
    "from the code associated with the intro.md files to one of these clusters. In order to achieve this, \n",
    "we first transformed the subjects, objects, and verbs into embeddings and used DBSCAN clustering to \n",
    "determine which sets of SOVs are \"unclusterable\" and to determine how many clusters to use for KMeans. \n",
    "Subsequently, we used KMeans on SOVs that were determined to be \"clusterable\" by DBSCAN to group \n",
    "the variables extracted from code. Finally, evaluation of the model is determined by comparing the cluster \n",
    "labels the variables were assigned by KMeans to the hand labeled dataset.\n",
    "\n",
    "The accuracy arrived by utilizing KMeans is around 22% which is significantly better than random given that there\n",
    "are over 30 possible cluster assignments. However, this method of variable classification is limited by the quality\n",
    "of the clusters produced by the Training data. For example, KMeans will be forced to assign a variable to a cluster\n",
    "simply because it is better than the other clusters available; however, the variable may be completely irrelevant\n",
    "compared to the other values in its assigned cluster. To solve this problem, we utilize a threshold prior to \n",
    "the assignment based on how \"similar\" the variable is compared to the other phrases that also belong to that \n",
    "cluster using the similarity comparator from spaCy. As seen from the graph generated above, Accuracy of the \n",
    "retrieved assignments increases as the threshold is raised while the number of assignments decreases.\n",
    "\n",
    "There are many improvements that can be made to potentially increase accuracy. By increasing the amount of training\n",
    "data will have a high probability of improving our results since the current intro.md files are terse in their \n",
    "model description. Increasing the dataset would also provide an increase to the number of clusters and greatly improve \n",
    "the quality of assignment. This in-turn will have an impact on the threshold which would require \n",
    "further experimentation. Subsequently, sometimes the variables that are extracted from code are too simple such that\n",
    "they are of only 1 character length which makes it hard to determine semantic meaning. Furthermore, \n",
    "other methods of determining \"similarity\" will also be explored. The current implementation using\n",
    "the spaCy similarity() is constrained in that it is most useful in checking for duplications but is not as good\n",
    "in terms of comparing semantic meaning.\n",
    "\n",
    "The graphs are generated from labels of a ground truth set to compensate for differing python versions\n",
    "that cause KMean random seed labels to be different.\n",
    "\n",
    "'''"
   ]
  }
 ],
 "metadata": {
  "anaconda-cloud": {},
  "kernelspec": {
   "display_name": "Python 3",
   "language": "python",
   "name": "python3"
  },
  "language_info": {
   "codemirror_mode": {
    "name": "ipython",
    "version": 3
   },
   "file_extension": ".py",
   "mimetype": "text/x-python",
   "name": "python",
   "nbconvert_exporter": "python",
   "pygments_lexer": "ipython3",
   "version": "3.6.8"
  }
 },
 "nbformat": 4,
 "nbformat_minor": 2
}
