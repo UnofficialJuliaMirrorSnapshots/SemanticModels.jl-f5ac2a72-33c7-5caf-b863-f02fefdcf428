{
 "cells": [
  {
   "cell_type": "markdown",
   "metadata": {
    "slideshow": {
     "slide_type": "slide"
    }
   },
   "source": [
    "# Model Augmentation Demo\n",
    "\n",
    "- If models are programs, then metamodeling is metaprograming\n",
    "\n",
    "- A commutative diagram\n",
    "<p><img src=\"src/img/semanticmodels_jl.dot.svg\" alt=\"A diagram showing how pipelining commutes with tranforming models\"></p>\n"
   ]
  },
  {
   "cell_type": "markdown",
   "metadata": {
    "slideshow": {
     "slide_type": "slide"
    }
   },
   "source": [
    "# Augmenting Model Workflows\n",
    "\n",
    "We can apply our model augmentation framework to models that are compositions of component models."
   ]
  },
  {
   "cell_type": "markdown",
   "metadata": {
    "slideshow": {
     "slide_type": "fragment"
    }
   },
   "source": [
    "1. How does the epidemic size depend on the probability of recovering?\n",
    "1. $SIR \\mid y\\approx ax+b$\n",
    "1. What if the disease is fatal?\n",
    "1. What if the population is Growing?\n",
    "1. Is the relationship linear?"
   ]
  },
  {
   "cell_type": "markdown",
   "metadata": {
    "slideshow": {
     "slide_type": "notes"
    }
   },
   "source": [
    "We are going to use the model augmentation presented in `examples/agentgraft.jl` as a baseline simulation and build a workflow to compose that model with the example in `examples/polynomial_regression.jl`. It is strongly recommended that you understand those examples before following this notebook.\n",
    "\n",
    "This example combines an agent based model of SIR diseases with a statistical model of polynomial regression to quantify the response of the agent based model with respect to one of its parameters. The input models have to be composed carefully in order to make the software work.\n",
    "\n",
    "As taught by the scientific computing education group [Software Carpentry](https://swcarpentry.github.io/), the best practice for composing scientific models is to have each component write files to disk and then use a workflow tool such as [Make](https://swcarpentry.github.io/make-novice/) to orchestrate the execution of the modeling scripts.\n",
    "\n",
    "An alternative approach is to design modeling frameworks for representing the models. The problem with this avenue becomes apparent when models are composed. The frameworks must be interoperable in order to make combined models. ModelTools avoids this problem by representing the models as code and manipulating the codes. The interoperation of two models is defined by user supplied functions in a fully featured programming language. \n",
    "\n",
    "If a workflow is a program, t\n",
    "\n",
    "Let $m_1,m_2$ be models, and $t_1,t_2$ be tranformations and define $M_i = t_i(m_i)$. If we denote the creation of pipelines with the function composition symbol $g\\circ f$ then we want to implement everything such that the following diagram commutes.\n",
    "<p><img src=\"../doc/build/img/commutative_pipeline.dot.svg\" alt=\"A diagram showing how pipelining commutes with tranforming models\"></p>\n",
    "\n",
    "This example shows how you can use a pipeline to represent the combination of models and then apply combinations of transformations to that pipeline. Transforming models and composing them into pipelines are two operations that commute, you can transform then compose or compose and then transform."
   ]
  },
  {
   "cell_type": "code",
   "execution_count": 270,
   "metadata": {
    "slideshow": {
     "slide_type": "skip"
    }
   },
   "outputs": [],
   "source": [
    "using SemanticModels.Parsers\n",
    "using SemanticModels.ModelTools\n",
    "using SemanticModels.ModelTools.ExpStateModels\n",
    "import Base: push!\n",
    "import SemanticModels.ModelTools: model, isexpr\n",
    "using Random"
   ]
  },
  {
   "cell_type": "code",
   "execution_count": 271,
   "metadata": {
    "slideshow": {
     "slide_type": "subslide"
    }
   },
   "outputs": [
    {
     "data": {
      "text/plain": [
       "0-element Array{Any,1}"
      ]
     },
     "execution_count": 271,
     "metadata": {},
     "output_type": "execute_result"
    }
   ],
   "source": [
    "samples = 100\n",
    "nsteps = 35\n",
    "finalcounts = Any[]"
   ]
  },
  {
   "cell_type": "code",
   "execution_count": 272,
   "metadata": {
    "lines_to_next_cell": 2,
    "slideshow": {
     "slide_type": "notes"
    }
   },
   "outputs": [
    {
     "name": "stdout",
     "output_type": "stream",
     "text": [
      "Running Agent Based Simulation Augmentation Demo\n",
      "================================================\n",
      "demo parameters:\n",
      "\tsamples=100\n",
      "\tnsteps=35\n"
     ]
    }
   ],
   "source": [
    "println(\"Running Agent Based Simulation Augmentation Demo\")\n",
    "println(\"================================================\")\n",
    "println(\"demo parameters:\\n\\tsamples=$samples\\n\\tnsteps=$nsteps\")"
   ]
  },
  {
   "cell_type": "markdown",
   "metadata": {
    "slideshow": {
     "slide_type": "slide"
    }
   },
   "source": [
    "## Baseline SIRS model\n",
    "\n",
    "Here is the baseline model, which is read in from a text file. You could instead of using `parsefile` use a `quote/end` block to code up the baseline model in this script. \n",
    "\n",
    "<img src=\"https://docs.google.com/drawings/d/e/2PACX-1vSeA7mAQ-795lLVxCWXzbkFQaFOHMpwtB121psFV_2cSUyXPyKMtvDjssia82JvQRXS08p6FAMr1hj1/pub?w=1031&amp;h=309\">"
   ]
  },
  {
   "cell_type": "code",
   "execution_count": 273,
   "metadata": {
    "lines_to_next_cell": 2,
    "slideshow": {
     "slide_type": "skip"
    }
   },
   "outputs": [
    {
     "data": {
      "text/plain": [
       "3-element Array{Any,1}:\n",
       " :newsam                 \n",
       " :counts                 \n",
       " :((ρ = ρ, μ = μ, n = n))"
      ]
     },
     "execution_count": 273,
     "metadata": {},
     "output_type": "execute_result"
    }
   ],
   "source": [
    "expr = parsefile(\"../examples/agentbased.jl\")\n",
    "m = model(ExpStateModel, expr)\n",
    "\n",
    "function returns(block::Vector{Any})\n",
    "    filter(x->(head(x)==:return), block)\n",
    "end\n",
    "returntuples = (bodyblock(filter(x->isa(x, Expr), findfunc(m.expr, :main))[end]) \n",
    "    |> returns \n",
    "    .|> x-> x.args[1].args )\n",
    "push!(returntuples[1], :((ρ=ρ, μ=μ, n=n)))"
   ]
  },
  {
   "cell_type": "code",
   "execution_count": 274,
   "metadata": {
    "slideshow": {
     "slide_type": "subslide"
    }
   },
   "outputs": [
    {
     "data": {
      "text/plain": [
       "ExpStateModel(\n",
       "  states=:([:S, :I, :R]),\n",
       "  agents=Expr[:(a = sm.agents), :(a = fill(:S, n))],\n",
       "  transitions=Expr[:(T = Dict(:S => (x...->begin\n",
       "                      #= none:120 =#\n",
       "                      if rand(Float64) < stateload(x[1], :I)\n",
       "                          :I\n",
       "                      else\n",
       "                          :S\n",
       "                      end\n",
       "                  end), :I => (x...->begin\n",
       "                      #= none:121 =#\n",
       "                      if rand(Float64) < ρ\n",
       "                          :I\n",
       "                      else\n",
       "                          :R\n",
       "                      end\n",
       "                  end), :R => (x...->begin\n",
       "                      #= none:122 =#\n",
       "                      if rand(Float64) < μ\n",
       "                          :R\n",
       "                      else\n",
       "                          :S\n",
       "                      end\n",
       "                  end)))]\n",
       ")"
      ]
     },
     "execution_count": 274,
     "metadata": {},
     "output_type": "execute_result"
    }
   ],
   "source": [
    "m"
   ]
  },
  {
   "cell_type": "code",
   "execution_count": 275,
   "metadata": {
    "lines_to_next_cell": 2,
    "slideshow": {
     "slide_type": "slide"
    }
   },
   "outputs": [
    {
     "name": "stdout",
     "output_type": "stream",
     "text": [
      "\n",
      "Running basic model\n"
     ]
    },
    {
     "name": "stderr",
     "output_type": "stream",
     "text": [
      "WARNING: replacing module AgentModels.\n"
     ]
    }
   ],
   "source": [
    "magents = deepcopy(m)\n",
    "println(\"\\nRunning basic model\")\n",
    "eval(m.expr)\n",
    "for i in 1:samples\n",
    "    #println((\"=======  Simulation $i  ========\"))\n",
    "    newsam, counts, params = AgentModels.main(nsteps)\n",
    "    push!(finalcounts, (model=:basic, counts=counts, params=params))\n",
    "end"
   ]
  },
  {
   "cell_type": "code",
   "execution_count": 276,
   "metadata": {
    "slideshow": {
     "slide_type": "subslide"
    }
   },
   "outputs": [
    {
     "name": "stdout",
     "output_type": "stream",
     "text": [
      "length(finalcounts) = 100\n"
     ]
    },
    {
     "data": {
      "text/plain": [
       "100-element Array{Any,1}:\n",
       " (model = :basic, counts = Pair{Symbol,Int64}[:S=>3, :I=>9, :R=>8], params = (ρ = 0.7201850269899536, μ = 0.5, n = 20))  \n",
       " (model = :basic, counts = Pair{Symbol,Int64}[:S=>5, :I=>12, :R=>3], params = (ρ = 0.8139927713598369, μ = 0.5, n = 20)) \n",
       " (model = :basic, counts = Pair{Symbol,Int64}[:S=>12, :I=>5, :R=>3], params = (ρ = 0.26855316176974986, μ = 0.5, n = 20))\n",
       " (model = :basic, counts = Pair{Symbol,Int64}[:S=>9, :I=>2, :R=>9], params = (ρ = 0.5510461139049693, μ = 0.5, n = 20))  \n",
       " (model = :basic, counts = Pair{Symbol,Int64}[:S=>13, :I=>2, :R=>5], params = (ρ = 0.4798098486601423, μ = 0.5, n = 20)) \n",
       " (model = :basic, counts = Pair{Symbol,Int64}[:S=>12, :I=>4, :R=>4], params = (ρ = 0.49060116205384996, μ = 0.5, n = 20))\n",
       " (model = :basic, counts = Pair{Symbol,Int64}[:S=>13, :I=>2, :R=>5], params = (ρ = 0.39346789041876484, μ = 0.5, n = 20))\n",
       " (model = :basic, counts = Pair{Symbol,Int64}[:S=>11, :I=>4, :R=>5], params = (ρ = 0.6291534552829867, μ = 0.5, n = 20)) \n",
       " (model = :basic, counts = Pair{Symbol,Int64}[:S=>6, :I=>12, :R=>2], params = (ρ = 0.5585197013329337, μ = 0.5, n = 20)) \n",
       " (model = :basic, counts = Pair{Symbol,Int64}[:S=>13, :I=>2, :R=>5], params = (ρ = 0.0, μ = 0.5, n = 20))                \n",
       " (model = :basic, counts = Pair{Symbol,Int64}[:S=>12, :I=>6, :R=>2], params = (ρ = 0.5028818048336176, μ = 0.5, n = 20)) \n",
       " (model = :basic, counts = Pair{Symbol,Int64}[:S=>4, :I=>6, :R=>10], params = (ρ = 0.3978028838317562, μ = 0.5, n = 20)) \n",
       " (model = :basic, counts = Pair{Symbol,Int64}[:S=>16, :I=>1, :R=>3], params = (ρ = 0.2765579820651315, μ = 0.5, n = 20)) \n",
       " ⋮                                                                                                                       \n",
       " (model = :basic, counts = Pair{Symbol,Int64}[:S=>6, :I=>7, :R=>7], params = (ρ = 0.5875189361701192, μ = 0.5, n = 20))  \n",
       " (model = :basic, counts = Pair{Symbol,Int64}[:S=>16, :I=>0, :R=>4], params = (ρ = 0.16396242844266706, μ = 0.5, n = 20))\n",
       " (model = :basic, counts = Pair{Symbol,Int64}[:S=>14, :I=>3, :R=>3], params = (ρ = 0.20787178999938294, μ = 0.5, n = 20))\n",
       " (model = :basic, counts = Pair{Symbol,Int64}[:S=>17, :I=>1, :R=>2], params = (ρ = 0.0, μ = 0.5, n = 20))                \n",
       " (model = :basic, counts = Pair{Symbol,Int64}[:S=>5, :I=>7, :R=>8], params = (ρ = 0.5314302618474402, μ = 0.5, n = 20))  \n",
       " (model = :basic, counts = Pair{Symbol,Int64}[:S=>10, :I=>6, :R=>4], params = (ρ = 0.4909136368647958, μ = 0.5, n = 20)) \n",
       " (model = :basic, counts = Pair{Symbol,Int64}[:S=>15, :I=>4, :R=>1], params = (ρ = 0.39385343993020583, μ = 0.5, n = 20))\n",
       " (model = :basic, counts = Pair{Symbol,Int64}[:S=>10, :I=>5, :R=>5], params = (ρ = 0.32290716991184343, μ = 0.5, n = 20))\n",
       " (model = :basic, counts = Pair{Symbol,Int64}[:S=>10, :I=>3, :R=>7], params = (ρ = 0.6345903412461449, μ = 0.5, n = 20)) \n",
       " (model = :basic, counts = Pair{Symbol,Int64}[:S=>8, :I=>2, :R=>10], params = (ρ = 0.25517242107554516, μ = 0.5, n = 20))\n",
       " (model = :basic, counts = Pair{Symbol,Int64}[:S=>6, :I=>9, :R=>5], params = (ρ = 0.48555640193064636, μ = 0.5, n = 20)) \n",
       " (model = :basic, counts = Pair{Symbol,Int64}[:S=>20, :I=>0, :R=>0], params = (ρ = 0.20477419442583866, μ = 0.5, n = 20))"
      ]
     },
     "execution_count": 276,
     "metadata": {},
     "output_type": "execute_result"
    }
   ],
   "source": [
    "@show length(finalcounts)\n",
    "finalcounts"
   ]
  },
  {
   "cell_type": "code",
   "execution_count": 277,
   "metadata": {
    "slideshow": {
     "slide_type": "skip"
    }
   },
   "outputs": [
    {
     "name": "stderr",
     "output_type": "stream",
     "text": [
      "WARNING: replacing module AgentModels.\n"
     ]
    },
    {
     "data": {
      "text/plain": [
       "(Pair{Symbol,Int64}[:S=>9, :I=>6, :R=>5], (ρ = 0.7005921849673147, μ = 0.5, n = 20))"
      ]
     },
     "execution_count": 277,
     "metadata": {},
     "output_type": "execute_result"
    }
   ],
   "source": [
    "ModelTools.invoke(magents, 10)[2:end]"
   ]
  },
  {
   "cell_type": "markdown",
   "metadata": {
    "slideshow": {
     "slide_type": "slide"
    }
   },
   "source": [
    "## Statistical Regression Model\n",
    "The following expression defines a univariate polynomial regression model of degree 0, which just computes the average of target variable. This model can be augmented to an polynomial regression model using transformations\n",
    "$T_1,T_x$ which will be defined later."
   ]
  },
  {
   "cell_type": "code",
   "execution_count": 278,
   "metadata": {
    "slideshow": {
     "slide_type": "subslide"
    }
   },
   "outputs": [
    {
     "name": "stderr",
     "output_type": "stream",
     "text": [
      "WARNING: replacing module Regression.\n"
     ]
    },
    {
     "data": {
      "text/plain": [
       "Main.Regression"
      ]
     },
     "execution_count": 278,
     "metadata": {},
     "output_type": "execute_result"
    }
   ],
   "source": [
    "\n",
    "expr = quote\n",
    "    module Regression\n",
    "    using Random\n",
    "    using LsqFit\n",
    "    using LinearAlgebra\n",
    "\n",
    "    function f(x, β) \n",
    "        return .+(β[1].* x.^0)\n",
    "    end\n",
    "\n",
    "    function describe(fit)\n",
    "        if !fit.converged\n",
    "            error(\"Did not converge\")\n",
    "        end\n",
    "        return (β = fit.param, r=norm(fit.resid,2), n=length(fit.resid))\n",
    "    end\n",
    "    #setup\n",
    "    a₀ = [1.0]\n",
    "    function main(X, target)\n",
    "        #solving\n",
    "        fit = curve_fit(f, X, target, a₀)#, autodiff=:forwarddiff)\n",
    "        result = describe(fit)\n",
    "        return fit, result\n",
    "    end\n",
    "end\n",
    "end\n",
    "Regression = eval(expr.args[2])"
   ]
  },
  {
   "cell_type": "code",
   "execution_count": 279,
   "metadata": {
    "slideshow": {
     "slide_type": "subslide"
    }
   },
   "outputs": [
    {
     "data": {
      "text/plain": [
       "connector (generic function with 1 method)"
      ]
     },
     "execution_count": 279,
     "metadata": {},
     "output_type": "execute_result"
    }
   ],
   "source": [
    "function connector(finalcounts, i, j)\n",
    "    n = length(finalcounts)\n",
    "    Data = zeros(n,length(finalcounts[1].counts))\n",
    "    params = zeros(n,length(finalcounts[1].params))\n",
    "    @show size(Data)\n",
    "    for i in 1:n\n",
    "        c = finalcounts[i].counts\n",
    "        Data[i, : ] = map(last, c)\n",
    "        params[i,:] = collect(map(float, finalcounts[i].params))\n",
    "    end\n",
    "    X = params[:, i]\n",
    "    Y = Data[:, j]\n",
    "    @show sum(Y)/length(Y)\n",
    "    @assert size(X,1) == size(Y,1)\n",
    "    return X,Y\n",
    "end\n"
   ]
  },
  {
   "cell_type": "code",
   "execution_count": 280,
   "metadata": {
    "slideshow": {
     "slide_type": "subslide"
    }
   },
   "outputs": [
    {
     "name": "stdout",
     "output_type": "stream",
     "text": [
      "size(Data) = (100, 3)\n",
      "sum(Y) / length(Y) = 4.33\n"
     ]
    },
    {
     "data": {
      "text/plain": [
       "5-element Array{Tuple{Float64,Float64},1}:\n",
       " (0.7201850269899536, 8.0) \n",
       " (0.8139927713598369, 3.0) \n",
       " (0.26855316176974986, 3.0)\n",
       " (0.5510461139049693, 9.0) \n",
       " (0.4798098486601423, 5.0) "
      ]
     },
     "execution_count": 280,
     "metadata": {},
     "output_type": "execute_result"
    }
   ],
   "source": [
    "X,Y = connector(finalcounts, 1, 3)\n",
    "collect(zip(X,Y))[1:5]"
   ]
  },
  {
   "cell_type": "code",
   "execution_count": 281,
   "metadata": {
    "slideshow": {
     "slide_type": "fragment"
    }
   },
   "outputs": [
    {
     "name": "stdout",
     "output_type": "stream",
     "text": [
      "size(Data) = (100, 3)\n",
      "sum(Y) / length(Y) = 4.33\n"
     ]
    },
    {
     "data": {
      "text/plain": [
       "(β = [4.33], r = 25.022190151943136, n = 100)"
      ]
     },
     "execution_count": 281,
     "metadata": {},
     "output_type": "execute_result"
    }
   ],
   "source": [
    "fit, result = Regression.main(connector(finalcounts, 1,3)...)\n",
    "result"
   ]
  },
  {
   "cell_type": "code",
   "execution_count": 282,
   "metadata": {
    "lines_to_next_cell": 2,
    "slideshow": {
     "slide_type": "skip"
    }
   },
   "outputs": [],
   "source": [
    "if sum(fit.resid)/length(fit.resid) > 1e-8\n",
    "    @warn \"Mean residual is large, regression might have failed\"\n",
    "end"
   ]
  },
  {
   "cell_type": "markdown",
   "metadata": {
    "slideshow": {
     "slide_type": "skip"
    }
   },
   "source": [
    "## Implementation Details\n",
    "The following code is the implementation details for representing the models as an `AbstractProblem` and representing the transformations as `Product{Tuple{Pow{Int}, Pow{Int}}}` and applying the transformations onto the models.\n",
    "\n",
    "See the `examples/polynomial_regression.jl` example for details of what this code does."
   ]
  },
  {
   "cell_type": "code",
   "execution_count": 283,
   "metadata": {
    "slideshow": {
     "slide_type": "skip"
    }
   },
   "outputs": [],
   "source": [
    "using LinearAlgebra\n",
    "using SemanticModels\n",
    "using SemanticModels.ModelTools\n",
    "using SemanticModels.ModelTools.Transformations\n",
    "import SemanticModels.ModelTools: model, AbstractModel, isexpr\n",
    "import SemanticModels.Parsers: findfunc, findassign\n",
    "import Base: show"
   ]
  },
  {
   "cell_type": "code",
   "execution_count": 284,
   "metadata": {
    "slideshow": {
     "slide_type": "notes"
    }
   },
   "outputs": [
    {
     "data": {
      "text/plain": [
       "SemanticModels.ModelTools.Transformations.Pow"
      ]
     },
     "execution_count": 284,
     "metadata": {},
     "output_type": "execute_result"
    }
   ],
   "source": [
    "\"\"\"    Lsq\n",
    "\n",
    "\n",
    "A program that solves min_β || f(X,β) - y ||_2\n",
    "\n",
    "Example:\n",
    "\n",
    "`f(X, β) = β[1].*X.^p .+ β[2].*X.^q`\n",
    "\n",
    "See also [`(t::Pow)(m::MultivariateLsq)`](@ref)\n",
    "\"\"\"\n",
    "struct Lsq <: AbstractModel\n",
    "    expr\n",
    "    f\n",
    "    coefficient\n",
    "    p₀\n",
    "end\n",
    "\n",
    "function show(io::IO, m::Lsq)\n",
    "    write(io, \"Lsq(\\n  f=$(repr(m.f)),\\n  coefficient=$(repr(m.coefficient)),\\n  p₀=$(repr(m.p₀))\\n)\")\n",
    "end\n",
    "\n",
    "function model(::Type{Lsq}, expr::Expr)\n",
    "    if expr.head == :block\n",
    "        return model(Lsq, expr.args[2])\n",
    "    end\n",
    "    objective = :l2norm\n",
    "    f = callsites(expr, :curve_fit)[end].args[2]\n",
    "    coeff = callsites(expr, f)[1].args[end]\n",
    "    p₀ = callsites(expr, :curve_fit)[end].args[end]\n",
    "    return Lsq(expr, f, coeff, p₀)\n",
    "end\n",
    "\n",
    "\"\"\"    poly(m::Lsq)::Expr\n",
    "\n",
    "find the part of the model that implements the polynomial model for regression.\n",
    "\"\"\"\n",
    "function poly(m::Lsq)\n",
    "    func = findfunc(m.expr, m.f)[1]\n",
    "    poly = func.args[2].args[end].args[1]\n",
    "    return poly\n",
    "end\n",
    "\n",
    "\"\"\"    (t::Pow)(m::Lsq)\n",
    "\n",
    "Example:\n",
    "\n",
    "If `m` is a program implementing `f(X, β) = β[1]*X^p + β[2]*X^q`\n",
    "\n",
    "a) and `t = Pow(2)` then `t(m)` is the model implementing\n",
    "`f(X, β) = β[1]*X^p+2 + β[2]*X^q+q`.\n",
    "\n",
    "\"\"\"\n",
    "function (t::Pow)(m::Lsq)\n",
    "    p = poly(m)\n",
    "    for i in 2:length(p.args)\n",
    "        slot = p.args[i]\n",
    "        pow = callsites(slot, :(.^))\n",
    "        pow[end].args[3] += t.inc\n",
    "    end\n",
    "    return m\n",
    "end"
   ]
  },
  {
   "cell_type": "code",
   "execution_count": 285,
   "metadata": {
    "slideshow": {
     "slide_type": "skip"
    }
   },
   "outputs": [],
   "source": [
    "struct AddConst <: Transformations.Transformation end\n",
    "\n",
    "\"\"\"    (c::AddConst)(m::MultivariateLsq)\n",
    "\n",
    "Example:\n",
    "\n",
    "If `m` is a program implementing `f(X, β) = β[1]*X^p + β[2]*X^q`\n",
    "\n",
    "a) and `c = AddConst()` then `c(m)` is the model implementing\n",
    "`f(X, β) = β[1]*X^p + β[2]*X^0`.\n",
    "\n",
    "\"\"\"\n",
    "function (c::AddConst)(m::Lsq)\n",
    "    p = poly(m)\n",
    "    ix = map(t->t.args[2].args[2], p.args[2:end])\n",
    "    i = maximum(ix)+1\n",
    "    push!(p.args, :(β[$i].*x.^0))\n",
    "    assigns = findassign(m.expr, m.p₀)\n",
    "    b = assigns[end].args[2].args\n",
    "    push!(b, 1)\n",
    "    return m\n",
    "end\n",
    "\n",
    "Tₓ = Pow(1)\n",
    "T₁ = AddConst();\n"
   ]
  },
  {
   "cell_type": "markdown",
   "metadata": {
    "slideshow": {
     "slide_type": "skip"
    }
   },
   "source": [
    "# Model workflows\n",
    "\n",
    "Models can be chained together into workflows, the most basic type is a pipeline where the outputs from model $m_i$ are passed to model $m_{i+1}$. One area where traditional modeling frameworks get in trouble is the fact that the connections between the models can be arbitrarily complex. Thus any modeling framework that supports worflows, must embed a programming language for describing the connectors between the steps of the workflow.\n",
    "\n",
    "Since we are already embedded in Julia, we will use regular Julia functions for the connectors.\n",
    "\n",
    "Mathematically, a pipeline is defined as $r_n = P(m_1,\\dots,m_n, c_1,\\dots,c_n)$ based on the recurrence,\n",
    "\n",
    "$r_0 = m_1(c)$ where $c$ is a constant value, and \n",
    "\n",
    "$r_i = m_i(c_i(r_{i-1}))$\n",
    "\n",
    "\n",
    "We store the values of $r_i$ in the field results so that they can be accessed later by visualization and  analysis programs."
   ]
  },
  {
   "cell_type": "markdown",
   "metadata": {
    "slideshow": {
     "slide_type": "slide"
    }
   },
   "source": [
    "## Model Workflows\n",
    "\n",
    "- Pipelines connect models in sequence like a bash script.\n",
    "- $input \\mid m_1 \\mid c_1 \\mid m_2 \\mid c_2 \\mid \\dots \\mid m_n > output$"
   ]
  },
  {
   "cell_type": "code",
   "execution_count": 286,
   "metadata": {
    "slideshow": {
     "slide_type": "subslide"
    }
   },
   "outputs": [
    {
     "name": "stderr",
     "output_type": "stream",
     "text": [
      "WARNING: replacing module Pipelines.\n"
     ]
    },
    {
     "data": {
      "text/plain": [
       "Main.Pipelines"
      ]
     },
     "execution_count": 286,
     "metadata": {},
     "output_type": "execute_result"
    }
   ],
   "source": [
    "module Pipelines\n",
    "using SemanticModels.ModelTools\n",
    "using Random\n",
    "struct Pipeline <: AbstractModel\n",
    "    steps\n",
    "    connectors\n",
    "    results\n",
    "end\n",
    "\n",
    "function run!(p::Pipeline)\n",
    "    stages = length(p.steps)\n",
    "    connectors = p.connectors\n",
    "    for s in 1:stages\n",
    "        data = p.results[end]\n",
    "        r = connectors[s](p.steps[s], data...)\n",
    "        push!(p.results, r)\n",
    "    end\n",
    "end\n",
    "\n",
    "function reset!(p::Pipeline)\n",
    "    while length(p.results) > 1\n",
    "        pop!(p.results)\n",
    "    end\n",
    "    return p\n",
    "end\n",
    "end"
   ]
  },
  {
   "cell_type": "markdown",
   "metadata": {
    "slideshow": {
     "slide_type": "subslide"
    }
   },
   "source": [
    "## Running the baseline workflow\n",
    "\n",
    "This workflow connects the two models so that we simulate the agent based model and then perform a regression on the outputs."
   ]
  },
  {
   "cell_type": "code",
   "execution_count": 287,
   "metadata": {
    "slideshow": {
     "slide_type": "subslide"
    }
   },
   "outputs": [
    {
     "data": {
      "text/plain": [
       "Main.Pipelines.Pipeline(AbstractModel[ExpStateModel(\n",
       "  states=:([:S, :I, :R]),\n",
       "  agents=Expr[:(a = sm.agents), :(a = fill(:S, n))],\n",
       "  transitions=Expr[:(T = Dict(:S => (x...->begin\n",
       "                      #= none:120 =#\n",
       "                      if rand(Float64) < stateload(x[1], :I)\n",
       "                          :I\n",
       "                      else\n",
       "                          :S\n",
       "                      end\n",
       "                  end), :I => (x...->begin\n",
       "                      #= none:121 =#\n",
       "                      if rand(Float64) < ρ\n",
       "                          :I\n",
       "                      else\n",
       "                          :R\n",
       "                      end\n",
       "                  end), :R => (x...->begin\n",
       "                      #= none:122 =#\n",
       "                      if rand(Float64) < μ\n",
       "                          :R\n",
       "                      else\n",
       "                          :S\n",
       "                      end\n",
       "                  end)))]\n",
       "), Lsq(\n",
       "  f=:f,\n",
       "  coefficient=:β,\n",
       "  p₀=:a₀\n",
       ")], Function[##217#219(), ##218#220()], Any[10])"
      ]
     },
     "execution_count": 287,
     "metadata": {},
     "output_type": "execute_result"
    }
   ],
   "source": [
    "m = model(Lsq, deepcopy(expr))\n",
    "mstats = deepcopy(m)\n",
    "P = Pipelines.Pipeline(deepcopy.([magents, mstats]),\n",
    "    [(m, args...) -> begin \n",
    "            Random.seed!(42)\n",
    "            results = Any[]\n",
    "            Mod = eval(m.expr)\n",
    "            for i in 1:samples\n",
    "                r = Base.invokelatest(Mod.main, args...)\n",
    "                push!(results, (model=:basic, counts=r[2], params=r[3]))\n",
    "                #push!(results, r)\n",
    "            end\n",
    "            return [results]\n",
    "                end,\n",
    "        (m, results...) -> begin\n",
    "            data = connector(results..., 1, 3)\n",
    "            Mod = eval(m.expr)\n",
    "            Base.invokelatest(Mod.main, data...) end\n",
    "        ],\n",
    "        Any[(10)]\n",
    "        )    "
   ]
  },
  {
   "cell_type": "markdown",
   "metadata": {
    "slideshow": {
     "slide_type": "skip"
    }
   },
   "source": [
    "Warning: Pipelines can only be run once. Recreate the pipeline and run it again if necessary."
   ]
  },
  {
   "cell_type": "code",
   "execution_count": 288,
   "metadata": {
    "slideshow": {
     "slide_type": "skip"
    }
   },
   "outputs": [
    {
     "name": "stdout",
     "output_type": "stream",
     "text": [
      "size(Data) = (100, 3)\n",
      "sum(Y) / length(Y) = 3.98\n"
     ]
    },
    {
     "name": "stderr",
     "output_type": "stream",
     "text": [
      "WARNING: replacing module AgentModels.\n",
      "WARNING: replacing module Regression.\n"
     ]
    }
   ],
   "source": [
    "Pipelines.run!(P)"
   ]
  },
  {
   "cell_type": "code",
   "execution_count": 289,
   "metadata": {
    "slideshow": {
     "slide_type": "subslide"
    }
   },
   "outputs": [
    {
     "data": {
      "text/plain": [
       "(β = [3.98], r = 22.93381782433967, n = 100)"
      ]
     },
     "execution_count": 289,
     "metadata": {},
     "output_type": "execute_result"
    }
   ],
   "source": [
    "#Pipelines.run!(P)\n",
    "r =  P.results[end][end]"
   ]
  },
  {
   "cell_type": "code",
   "execution_count": 290,
   "metadata": {
    "slideshow": {
     "slide_type": "skip"
    }
   },
   "outputs": [
    {
     "data": {
      "text/plain": [
       "3.98"
      ]
     },
     "execution_count": 290,
     "metadata": {},
     "output_type": "execute_result"
    }
   ],
   "source": [
    "map(P.results[2][1]) do s\n",
    "    last(s.counts[end])\n",
    "    end |> sum |> x-> x/length(P.results[2][1])\n",
    "\n",
    "#P.connectors[1](P.steps[3], P.results[2])"
   ]
  },
  {
   "cell_type": "code",
   "execution_count": 318,
   "metadata": {
    "slideshow": {
     "slide_type": "skip"
    }
   },
   "outputs": [
    {
     "name": "stdout",
     "output_type": "stream",
     "text": [
      "ρ\tf(ρ,β)\n",
      "==============\n",
      "β: [-46.7652, 113.729, -101.466, 35.2471]\n",
      ".+(β[1] .* x .^ 4, β[2] .* x .^ 3, β[3] .* x .^ 2, β[4] .* x .^ 0)\n"
     ]
    }
   ],
   "source": [
    "using Printf\n",
    "eval(:(f(x,β) = $(poly(P.steps[2]))))\n",
    "xdomain = (0.0:0.05:1.0)\n",
    "println(\"ρ\\tf(ρ,β)\\n==============\")\n",
    "xŷ = zip(xdomain, f(xdomain, P.results[end][2].β))\n",
    "z = collect(map(x->(@sprintf(\"%0.2f\", x[1]),\n",
    "                    @sprintf(\"%7.3f\", x[2])),\n",
    "        xŷ))\n",
    "\n",
    "using Plots\n",
    "#gr()\n",
    "table = map(x->(round(x.params.ρ, digits=4), last(x.counts[end])), P.results[2][1]) |> sort\n",
    "p = scatter(first.(table), last.(table), label=\"obs\",alpha=0.3)\n",
    "plot!(first.(xŷ), last.(xŷ), label=\"fit\")\n",
    "xlabel!(p, \"Probability of Recovery\")\n",
    "ylabel!(p, \"Recovered Population\")\n",
    "println(\"β: \", P.results[end][2].β, \"\\n\", string(poly(P.steps[2])))\n",
    "p\n",
    "savefig(p, \"recovery.png\")"
   ]
  },
  {
   "cell_type": "markdown",
   "metadata": {
    "slideshow": {
     "slide_type": "subslide"
    }
   },
   "source": [
    "## Size of Recovered Population\n",
    "\n",
    "<img src=\"recovery.png\">"
   ]
  },
  {
   "cell_type": "markdown",
   "metadata": {
    "slideshow": {
     "slide_type": "subslide"
    }
   },
   "source": [
    "## Transforming the Pipeline\n",
    "\n",
    "- Define $\\times$ so that $T_1\\times T_2$ acts on a pipeline by creating $P(T_1(m_1),T_2(m_2), c_1,c_2)$.\n",
    "\n",
    "- The following diagram commutes\n",
    "<p><img src=\"src/img/commutative_pipeline.dot.svg\" alt=\"A diagram showing how pipelining commutes with tranforming models\"></p>"
   ]
  },
  {
   "cell_type": "code",
   "execution_count": 292,
   "metadata": {
    "lines_to_next_cell": 2,
    "slideshow": {
     "slide_type": "skip"
    }
   },
   "outputs": [
    {
     "data": {
      "text/plain": [
       "cross (generic function with 3 methods)"
      ]
     },
     "execution_count": 292,
     "metadata": {},
     "output_type": "execute_result"
    }
   ],
   "source": [
    "# Product = ModelTools.Transformations.Product\n",
    "# Apply the i-th transformation to the i-th step of the pipeline\n",
    "function (t::Product)(m::Pipelines.Pipeline)\n",
    "    for (i, s) in enumerate(m.steps)\n",
    "        t.dims[i](s)\n",
    "    end\n",
    "end\n",
    "import LinearAlgebra: ×\n",
    "×(f,g) = Product((f,g))"
   ]
  },
  {
   "cell_type": "code",
   "execution_count": 293,
   "metadata": {},
   "outputs": [
    {
     "data": {
      "text/plain": [
       "Lsq(\n",
       "  f=:f,\n",
       "  coefficient=:β,\n",
       "  p₀=:a₀\n",
       ")"
      ]
     },
     "execution_count": 293,
     "metadata": {},
     "output_type": "execute_result"
    }
   ],
   "source": [
    "P.steps[2]"
   ]
  },
  {
   "cell_type": "code",
   "execution_count": 294,
   "metadata": {
    "slideshow": {
     "slide_type": "skip"
    }
   },
   "outputs": [
    {
     "name": "stdout",
     "output_type": "stream",
     "text": [
      "size(Data) = (100, 3)\n",
      "sum(Y) / length(Y) = 3.98\n"
     ]
    },
    {
     "name": "stderr",
     "output_type": "stream",
     "text": [
      "WARNING: replacing module AgentModels.\n",
      "WARNING: replacing module Regression.\n"
     ]
    }
   ],
   "source": [
    "# Transforming the second step\n",
    "(identity × Tₓ)(P)\n",
    "(identity × T₁)(P)\n",
    "(identity × Tₓ)(P)\n",
    "(identity × T₁)(P)\n",
    "\n",
    "Pipelines.reset!(P)\n",
    "Pipelines.run!(P);"
   ]
  },
  {
   "cell_type": "code",
   "execution_count": 295,
   "metadata": {
    "slideshow": {
     "slide_type": "skip"
    }
   },
   "outputs": [
    {
     "data": {
      "text/plain": [
       "(β = [-8.38778, 6.57654, 3.34351], r = 21.461856101484337, n = 100)"
      ]
     },
     "execution_count": 295,
     "metadata": {},
     "output_type": "execute_result"
    }
   ],
   "source": [
    "P.results[end][2]"
   ]
  },
  {
   "cell_type": "markdown",
   "metadata": {
    "slideshow": {
     "slide_type": "slide"
    }
   },
   "source": [
    "## Adding the Dead State\n",
    "\n",
    "<img src=\"https://docs.google.com/drawings/d/e/2PACX-1vRUhrX6GzMzNRWr0GI3pDp9DvSqJVTDVpy9SNNBIB08b7Hyf9vaHobE2knrGPda4My9f_o9gncG34pF/pub?w=1028&amp;h=309\">\n",
    "\n",
    "We are going to add an additional state to the model to represent the infectious disease fatalities. The user must specify what that concept means in terms of the name for the new state and the behavior of that state. `D` is a terminal state for a finite automata."
   ]
  },
  {
   "cell_type": "code",
   "execution_count": 296,
   "metadata": {
    "lines_to_next_cell": 2,
    "slideshow": {
     "slide_type": "skip"
    }
   },
   "outputs": [
    {
     "data": {
      "text/plain": [
       "addstate! (generic function with 1 method)"
      ]
     },
     "execution_count": 296,
     "metadata": {},
     "output_type": "execute_result"
    }
   ],
   "source": [
    "function addstate!(m::ExpStateModel)\n",
    "    println(\"\\nThe system states are $(m.states.args)\")\n",
    "    println(\"\\nAdding un estado de los muertos\")\n",
    "\n",
    "    put!(m, ExpStateTransition(:D, :((x...)->:D)))\n",
    "\n",
    "    println(\"\\nThe system states are $(m.states.args)\")\n",
    "    # once you are dead, you are dead forever\n",
    "    println(\"\\nThere is no resurrection in this model\")\n",
    "    println(\"\\nInfected individuals recover or die in one step\")\n",
    "\n",
    "    # replace!(m, ExpStateTransition(:I, :((x...)->rand(Bool) ? :D : :I)))\n",
    "    m[:I] = :((x...)->begin\n",
    "            roll = rand()\n",
    "            if roll < ρ\n",
    "                return :R\n",
    "            elseif rand(Bool)\n",
    "                return :D\n",
    "            else\n",
    "                return :I\n",
    "            end\n",
    "        end\n",
    "    )\n",
    "    @show m[:I]\n",
    "    return m\n",
    "end"
   ]
  },
  {
   "cell_type": "markdown",
   "metadata": {},
   "source": [
    "Some utilities for manipulating functions at a higher level than expressions."
   ]
  },
  {
   "cell_type": "code",
   "execution_count": 297,
   "metadata": {
    "slideshow": {
     "slide_type": "notes"
    }
   },
   "outputs": [
    {
     "data": {
      "text/plain": [
       "push! (generic function with 83 methods)"
      ]
     },
     "execution_count": 297,
     "metadata": {},
     "output_type": "execute_result"
    }
   ],
   "source": [
    "\n",
    "struct Func end\n",
    "\n",
    "function push!(::Func, func::Expr, ex::Expr)\n",
    "    push!(bodyblock(func), ex)\n",
    "end"
   ]
  },
  {
   "cell_type": "markdown",
   "metadata": {
    "slideshow": {
     "slide_type": "slide"
    }
   },
   "source": [
    "## Population Growth\n",
    "\n",
    "Another change we can make to our model is the introduction of population growth. Our model for population is that on each timestep, one new suceptible person will be added to the list of agents. We use the `tick!` function as an anchor point for this transformation.\n",
    "\n",
    "<img src=\"https://docs.google.com/drawings/d/e/2PACX-1vRfLcbPPaQq6jmxheWApqidYte8FxK7p0Ebs2EyW2pY3ougNh5YiMjA0NbRMuGAIT5pD02WNEoOfdCd/pub?w=1005&amp;h=247\">"
   ]
  },
  {
   "cell_type": "code",
   "execution_count": 298,
   "metadata": {
    "slideshow": {
     "slide_type": "skip"
    }
   },
   "outputs": [
    {
     "name": "stdout",
     "output_type": "stream",
     "text": [
      "\n",
      "Adding population growth to this model\n",
      "stepr = :(function tick!(sm::StateModel)\n",
      "      #= none:59 =#\n",
      "      sm.loads = map((s->begin\n",
      "                      #= none:59 =#\n",
      "                      stateload(sm, s)\n",
      "                  end), sm.states)\n",
      "      #= none:60 =#\n",
      "      return sm.loads\n",
      "  end)\n",
      "------------------------\n",
      "stepr = :(function tick!(sm::StateModel)\n",
      "      #= none:59 =#\n",
      "      sm.loads = map((s->begin\n",
      "                      #= none:59 =#\n",
      "                      stateload(sm, s)\n",
      "                  end), sm.states)\n",
      "      push!(sm.agents, :S)\n",
      "      #= none:60 =#\n",
      "      return sm.loads\n",
      "  end)\n"
     ]
    },
    {
     "data": {
      "text/plain": [
       "ExpStateModel(\n",
       "  states=:([:S, :I, :R]),\n",
       "  agents=Expr[:(a = sm.agents), :(a = fill(:S, n))],\n",
       "  transitions=Expr[:(T = Dict(:S => (x...->begin\n",
       "                      #= none:120 =#\n",
       "                      if rand(Float64) < stateload(x[1], :I)\n",
       "                          :I\n",
       "                      else\n",
       "                          :S\n",
       "                      end\n",
       "                  end), :I => (x...->begin\n",
       "                      #= none:121 =#\n",
       "                      if rand(Float64) < ρ\n",
       "                          :I\n",
       "                      else\n",
       "                          :R\n",
       "                      end\n",
       "                  end), :R => (x...->begin\n",
       "                      #= none:122 =#\n",
       "                      if rand(Float64) < μ\n",
       "                          :R\n",
       "                      else\n",
       "                          :S\n",
       "                      end\n",
       "                  end)))]\n",
       ")"
      ]
     },
     "execution_count": 298,
     "metadata": {},
     "output_type": "execute_result"
    }
   ],
   "source": [
    "function addgrowth!(m::ExpStateModel)\n",
    "    println(\"\\nAdding population growth to this model\")\n",
    "    stepr = filter(x->isa(x,Expr), findfunc(m.expr, :tick!))[1]\n",
    "    @show stepr\n",
    "    body = stepr.args[end].args\n",
    "    insert!(body, length(body)-1, :(push!(sm.agents, :S)))\n",
    "    println(\"------------------------\")\n",
    "    @show stepr;\n",
    "    return m\n",
    "end\n",
    "addgrowth!(deepcopy(magents))"
   ]
  },
  {
   "cell_type": "code",
   "execution_count": null,
   "metadata": {},
   "outputs": [],
   "source": []
  },
  {
   "cell_type": "markdown",
   "metadata": {
    "slideshow": {
     "slide_type": "slide"
    }
   },
   "source": [
    "## Model Augmentation yields polynomial regression\n",
    "Given transformations\n",
    "\n",
    "1. `f(x) -> xf(x)` \n",
    "2. `f(x) -> f(x) + beta`\n",
    "\n",
    "we are able to generate all possible polynomial regression using composition of these transformations."
   ]
  },
  {
   "cell_type": "code",
   "execution_count": 299,
   "metadata": {
    "slideshow": {
     "slide_type": "slide"
    }
   },
   "outputs": [
    {
     "name": "stdout",
     "output_type": "stream",
     "text": [
      "m = Lsq(\n",
      "  f=:f,\n",
      "  coefficient=:β,\n",
      "  p₀=:a₀\n",
      ")\n"
     ]
    },
    {
     "data": {
      "text/plain": [
       ":((.+)(β[1] .* x .^ 0))"
      ]
     },
     "execution_count": 299,
     "metadata": {},
     "output_type": "execute_result"
    }
   ],
   "source": [
    "# Let's build an instance of the model object from the code snippet expr\n",
    "m = model(Lsq, deepcopy(expr))\n",
    "mstats = deepcopy(m)\n",
    "@show m\n",
    "poly(m)"
   ]
  },
  {
   "cell_type": "markdown",
   "metadata": {
    "slideshow": {
     "slide_type": "slide"
    }
   },
   "source": [
    "### Generating the Transformation Monoid\n",
    "\n",
    "1. $T_x,T_1$ are *generators* for our monoid of transformations $T = \\langle T_x, T_1 \\rangle$.\n",
    "2. $T_x$ multiplies by $x$\n",
    "3. $T_1$ adds a constant to our polynomial \n",
    "4. Any polynomial can be generated by these two operations cf. Horner's rule."
   ]
  },
  {
   "cell_type": "code",
   "execution_count": 300,
   "metadata": {},
   "outputs": [],
   "source": [
    "using Plots"
   ]
  },
  {
   "cell_type": "code",
   "execution_count": 301,
   "metadata": {},
   "outputs": [],
   "source": [
    "p = plot(-1:0.01:1, [x->1, x->x, x->x^2, x-> x^2-x], label=[\"1\",\"x\",\"x^2\", \"x²-x\"])\n",
    "x_tmp = 2 .* rand(20) .- 1\n",
    "y_tmp = x_tmp .^ 2 - x_tmp + randn(20)/10\n",
    "scatter!(p, x_tmp, y_tmp, label=\"data\")\n",
    "#plot(-1:1:100, x->x)\n",
    "savefig(p, \"poly.png\")"
   ]
  },
  {
   "cell_type": "markdown",
   "metadata": {
    "slideshow": {
     "slide_type": "subslide"
    }
   },
   "source": [
    "<img src=\"poly.png\">"
   ]
  },
  {
   "cell_type": "code",
   "execution_count": 302,
   "metadata": {
    "slideshow": {
     "slide_type": "subslide"
    }
   },
   "outputs": [
    {
     "name": "stdout",
     "output_type": "stream",
     "text": [
      "poly(m) = :((.+)(β[1] .* x .^ 0))\n",
      "poly(m′) = :(β[1] .* x .^ 1 .+ β[2] .* x .^ 0)\n",
      "size(Data) = (100, 3)\n",
      "sum(Y) / length(Y) = 4.33\n"
     ]
    },
    {
     "name": "stderr",
     "output_type": "stream",
     "text": [
      "WARNING: replacing module Regression.\n"
     ]
    },
    {
     "data": {
      "text/plain": [
       "(β = [1.17925, 3.76839], r = 24.87468061797238, n = 100)"
      ]
     },
     "execution_count": 302,
     "metadata": {},
     "output_type": "execute_result"
    }
   ],
   "source": [
    "Tₓ = Pow(1)\n",
    "T₁ = AddConst();\n",
    "\n",
    "m′ = deepcopy(m)\n",
    "Tₓ(m′)\n",
    "T₁(m′)\n",
    "@show poly(m)\n",
    "Regression = eval(m′.expr)\n",
    "\n",
    "@show poly(m′)\n",
    "fit′, result′ = Regression.main(connector(finalcounts,1,3)...)\n",
    "result′"
   ]
  },
  {
   "cell_type": "code",
   "execution_count": 303,
   "metadata": {
    "slideshow": {
     "slide_type": "subslide"
    }
   },
   "outputs": [
    {
     "name": "stdout",
     "output_type": "stream",
     "text": [
      "poly(m) = :((.+)(β[1] .* x .^ 0))\n",
      "poly(m′) = :(.+(β[1] .* x .^ 11, β[2] .* x .^ 10, β[3] .* x .^ 9, β[4] .* x .^ 8, β[5] .* x .^ 7, β[6] .* x .^ 6, β[7] .* x .^ 5, β[8] .* x .^ 4, β[9] .* x .^ 3, β[10] .* x .^ 2, β[11] .* x .^ 1, β[12] .* x .^ 0))\n",
      "size(Data) = (100, 3)\n",
      "sum(Y) / length(Y) = 4.33\n"
     ]
    },
    {
     "name": "stderr",
     "output_type": "stream",
     "text": [
      "WARNING: replacing module Regression.\n"
     ]
    },
    {
     "data": {
      "text/plain": [
       "(β = [-3.01731e5, 1.42783e6, -2.80786e6, 2.91865e6, -1.63402e6, 3.64339e5, 103353.0, -94372.6, 27385.8, -3793.68, 208.676, 3.48562], r = 22.601366550465972, n = 100)"
      ]
     },
     "execution_count": 303,
     "metadata": {},
     "output_type": "execute_result"
    }
   ],
   "source": [
    "for i in 1:10\n",
    "    Tₓ(m′)\n",
    "    T₁(m′)\n",
    "end\n",
    "\n",
    "@show poly(m)\n",
    "Regression = eval(m′.expr)\n",
    "\n",
    "@show poly(m′)\n",
    "fit′, result′ = Regression.main(connector(finalcounts,1,3)...)\n",
    "result′"
   ]
  },
  {
   "cell_type": "code",
   "execution_count": 304,
   "metadata": {
    "lines_to_next_cell": 2,
    "slideshow": {
     "slide_type": "skip"
    }
   },
   "outputs": [
    {
     "data": {
      "text/plain": [
       "connector (generic function with 1 method)"
      ]
     },
     "execution_count": 304,
     "metadata": {},
     "output_type": "execute_result"
    }
   ],
   "source": [
    "function connector(finalcounts, i, j)\n",
    "    n = length(finalcounts)\n",
    "    Data = zeros(n,length(finalcounts[1].counts))\n",
    "    params = zeros(n,length(finalcounts[1].params))\n",
    "    @show size(Data)\n",
    "    for i in 1:n\n",
    "        c = finalcounts[i].counts\n",
    "        Data[i, : ] = map(last, c)\n",
    "        params[i,:] = collect(map(float, finalcounts[i].params))\n",
    "    end\n",
    "    X = params[:, i]\n",
    "    Y = Data[:, j]\n",
    "    @assert size(X,1) == size(Y,1)\n",
    "    return X,Y\n",
    "end"
   ]
  },
  {
   "cell_type": "code",
   "execution_count": 305,
   "metadata": {
    "lines_to_next_cell": 2,
    "slideshow": {
     "slide_type": "skip"
    }
   },
   "outputs": [
    {
     "data": {
      "text/plain": [
       "Main.Pipelines.Pipeline(AbstractModel[ExpStateModel(\n",
       "  states=:([:S, :I, :R]),\n",
       "  agents=Expr[:(a = sm.agents), :(a = fill(:S, n))],\n",
       "  transitions=Expr[:(T = Dict(:S => (x...->begin\n",
       "                      #= none:120 =#\n",
       "                      if rand(Float64) < stateload(x[1], :I)\n",
       "                          :I\n",
       "                      else\n",
       "                          :S\n",
       "                      end\n",
       "                  end), :I => (x...->begin\n",
       "                      #= none:121 =#\n",
       "                      if rand(Float64) < ρ\n",
       "                          :I\n",
       "                      else\n",
       "                          :R\n",
       "                      end\n",
       "                  end), :R => (x...->begin\n",
       "                      #= none:122 =#\n",
       "                      if rand(Float64) < μ\n",
       "                          :R\n",
       "                      else\n",
       "                          :S\n",
       "                      end\n",
       "                  end)))]\n",
       "), Lsq(\n",
       "  f=:f,\n",
       "  coefficient=:β,\n",
       "  p₀=:a₀\n",
       ")], Function[##239#241(), ##240#242()], Any[35])"
      ]
     },
     "execution_count": 305,
     "metadata": {},
     "output_type": "execute_result"
    }
   ],
   "source": [
    "P = Pipelines.Pipeline(deepcopy.([magents, mstats]),\n",
    "    [(m, args...) -> begin \n",
    "            Random.seed!(42)\n",
    "            results = Any[]\n",
    "            Mod = eval(m.expr)\n",
    "            @show Mod\n",
    "            for i in 1:samples\n",
    "                r = Base.invokelatest(Mod.main, args...)\n",
    "                push!(results, (model=:basic, counts=r[2],params=r[3]))\n",
    "                #push!(results, r)\n",
    "            end\n",
    "            return [results]\n",
    "                end,\n",
    "        (m, results...) -> begin\n",
    "            data = connector(results..., 1, 4)\n",
    "            Mod = eval(m.expr)\n",
    "            Base.invokelatest(Mod.main, data...) \n",
    "        end\n",
    "        ],\n",
    "        Any[(nsteps)]\n",
    "        )"
   ]
  },
  {
   "cell_type": "code",
   "execution_count": 306,
   "metadata": {
    "lines_to_next_cell": 2,
    "slideshow": {
     "slide_type": "subslide"
    }
   },
   "outputs": [
    {
     "name": "stdout",
     "output_type": "stream",
     "text": [
      "\n",
      "Initial Pipeline\n",
      "----------------\n"
     ]
    },
    {
     "data": {
      "text/plain": [
       "(:([:S, :I, :R]), :((.+)(β[1] .* x .^ 0)))"
      ]
     },
     "execution_count": 306,
     "metadata": {},
     "output_type": "execute_result"
    }
   ],
   "source": [
    "println(\"\\nInitial Pipeline\")\n",
    "println(\"----------------\")\n",
    "P.steps[1].states, poly(P.steps[2])"
   ]
  },
  {
   "cell_type": "code",
   "execution_count": 307,
   "metadata": {
    "lines_to_next_cell": 2,
    "slideshow": {
     "slide_type": "subslide"
    }
   },
   "outputs": [
    {
     "name": "stdout",
     "output_type": "stream",
     "text": [
      "\n",
      "\n",
      "Applying the first pair of transformations\n",
      "------------------------------------------\n",
      "\n",
      "The system states are Any[:(:S), :(:I), :(:R)]\n",
      "\n",
      "Adding un estado de los muertos\n",
      "\n",
      "The system states are Any[:(:S), :(:I), :(:R), :(:D)]\n",
      "\n",
      "There is no resurrection in this model\n",
      "\n",
      "Infected individuals recover or die in one step\n",
      "m[:I] = :(x...->begin\n",
      "          #= In[296]:13 =#\n",
      "          #= In[296]:14 =#\n",
      "          roll = rand()\n",
      "          #= In[296]:15 =#\n",
      "          if roll < ρ\n",
      "              #= In[296]:16 =#\n",
      "              return :R\n",
      "          elseif #= In[296]:17 =# rand(Bool)\n",
      "              #= In[296]:18 =#\n",
      "              return :D\n",
      "          else\n",
      "              #= In[296]:20 =#\n",
      "              return :I\n",
      "          end\n",
      "      end)\n"
     ]
    }
   ],
   "source": [
    "println(\"\\n\\nApplying the first pair of transformations\")\n",
    "println(     \"------------------------------------------\")\n",
    "(addstate! × one(Pow))(P)"
   ]
  },
  {
   "cell_type": "code",
   "execution_count": 308,
   "metadata": {
    "lines_to_next_cell": 2,
    "slideshow": {
     "slide_type": "subslide"
    }
   },
   "outputs": [
    {
     "data": {
      "text/plain": [
       "(:([:S, :I, :R, :D]), :((.+)(β[1] .* x .^ 1)))"
      ]
     },
     "execution_count": 308,
     "metadata": {},
     "output_type": "execute_result"
    }
   ],
   "source": [
    "P.steps[1].states, poly(P.steps[2])"
   ]
  },
  {
   "cell_type": "code",
   "execution_count": 309,
   "metadata": {
    "lines_to_next_cell": 2,
    "slideshow": {
     "slide_type": "subslide"
    }
   },
   "outputs": [
    {
     "name": "stdout",
     "output_type": "stream",
     "text": [
      "\n",
      "\n",
      "Applying the second pair of transformations\n",
      "-------------------------------------------\n",
      "\n",
      "Adding population growth to this model\n",
      "stepr = :(function tick!(sm::StateModel)\n",
      "      #= none:59 =#\n",
      "      sm.loads = map((s->begin\n",
      "                      #= none:59 =#\n",
      "                      stateload(sm, s)\n",
      "                  end), sm.states)\n",
      "      #= none:60 =#\n",
      "      return sm.loads\n",
      "  end)\n",
      "------------------------\n",
      "stepr = :(function tick!(sm::StateModel)\n",
      "      #= none:59 =#\n",
      "      sm.loads = map((s->begin\n",
      "                      #= none:59 =#\n",
      "                      stateload(sm, s)\n",
      "                  end), sm.states)\n",
      "      push!(sm.agents, :S)\n",
      "      #= none:60 =#\n",
      "      return sm.loads\n",
      "  end)\n"
     ]
    }
   ],
   "source": [
    "println(\"\\n\\nApplying the second pair of transformations\")\n",
    "println(    \"-------------------------------------------\")\n",
    "(addgrowth! × T₁)(P)\n",
    "(identity × Tₓ)(P)\n",
    "(identity × T₁)(P)\n",
    "(identity   × Tₓ)(P)\n",
    "(identity   × Tₓ)(P)\n",
    "(identity   × T₁)(P)"
   ]
  },
  {
   "cell_type": "code",
   "execution_count": 310,
   "metadata": {
    "lines_to_next_cell": 2,
    "slideshow": {
     "slide_type": "subslide"
    }
   },
   "outputs": [
    {
     "name": "stdout",
     "output_type": "stream",
     "text": [
      "\n",
      "\n",
      "The final model state\n",
      "---------------------\n",
      "function tick!(sm::StateModel)\n",
      "    #= none:59 =#\n",
      "    sm.loads = map((s->begin\n",
      "                    #= none:59 =#\n",
      "                    stateload(sm, s)\n",
      "                end), sm.states)\n",
      "    push!(sm.agents, :S)\n",
      "    #= none:60 =#\n",
      "    return sm.loads\n",
      "end\n"
     ]
    },
    {
     "data": {
      "text/plain": [
       "(:([:S, :I, :R, :D]), :(.+(β[1] .* x .^ 4, β[2] .* x .^ 3, β[3] .* x .^ 2, β[4] .* x .^ 0)))"
      ]
     },
     "execution_count": 310,
     "metadata": {},
     "output_type": "execute_result"
    }
   ],
   "source": [
    "println(\"\\n\\nThe final model state\")\n",
    "println(     \"---------------------\")\n",
    "println(filter(isexpr, findfunc(P.steps[1].expr, :tick!))[end])\n",
    "P.steps[1].states, poly(P.steps[2])"
   ]
  },
  {
   "cell_type": "markdown",
   "metadata": {
    "slideshow": {
     "slide_type": "skip"
    }
   },
   "source": [
    "## Running the new pipeline\n",
    "\n",
    "now that we have transformed the pipeline we run it to build the results"
   ]
  },
  {
   "cell_type": "code",
   "execution_count": 311,
   "metadata": {
    "slideshow": {
     "slide_type": "skip"
    }
   },
   "outputs": [
    {
     "name": "stdout",
     "output_type": "stream",
     "text": [
      "Mod = Main.AgentModels\n",
      "size(Data) = "
     ]
    },
    {
     "name": "stderr",
     "output_type": "stream",
     "text": [
      "WARNING: replacing module AgentModels.\n"
     ]
    },
    {
     "name": "stdout",
     "output_type": "stream",
     "text": [
      "(100, 4)\n"
     ]
    },
    {
     "name": "stderr",
     "output_type": "stream",
     "text": [
      "WARNING: replacing module Regression.\n"
     ]
    }
   ],
   "source": [
    "Pipelines.run!(P)"
   ]
  },
  {
   "cell_type": "code",
   "execution_count": 312,
   "metadata": {},
   "outputs": [
    {
     "data": {
      "text/plain": [
       "100-element Array{Any,1}:\n",
       " (model = :basic, counts = Pair{Symbol,Int64}[:S=>25, :I=>1, :R=>1, :D=>28], params = (ρ = 0.36099328096340344, μ = 0.5, n = 20))\n",
       " (model = :basic, counts = Pair{Symbol,Int64}[:S=>14, :I=>5, :R=>0, :D=>36], params = (ρ = 0.02927198609399234, μ = 0.5, n = 20))\n",
       " (model = :basic, counts = Pair{Symbol,Int64}[:S=>29, :I=>0, :R=>0, :D=>26], params = (ρ = 0.45978731659796784, μ = 0.5, n = 20))\n",
       " (model = :basic, counts = Pair{Symbol,Int64}[:S=>18, :I=>0, :R=>0, :D=>37], params = (ρ = 0.099905604252853, μ = 0.5, n = 20))  \n",
       " (model = :basic, counts = Pair{Symbol,Int64}[:S=>18, :I=>0, :R=>0, :D=>37], params = (ρ = 0.07097565437889292, μ = 0.5, n = 20))\n",
       " (model = :basic, counts = Pair{Symbol,Int64}[:S=>21, :I=>1, :R=>1, :D=>32], params = (ρ = 0.17078965550545605, μ = 0.5, n = 20))\n",
       " (model = :basic, counts = Pair{Symbol,Int64}[:S=>30, :I=>2, :R=>0, :D=>23], params = (ρ = 0.4382702758083219, μ = 0.5, n = 20)) \n",
       " (model = :basic, counts = Pair{Symbol,Int64}[:S=>23, :I=>8, :R=>0, :D=>24], params = (ρ = 0.4619134638649293, μ = 0.5, n = 20)) \n",
       " (model = :basic, counts = Pair{Symbol,Int64}[:S=>37, :I=>1, :R=>3, :D=>14], params = (ρ = 0.6230582904499314, μ = 0.5, n = 20)) \n",
       " (model = :basic, counts = Pair{Symbol,Int64}[:S=>27, :I=>2, :R=>0, :D=>26], params = (ρ = 0.37681653175258695, μ = 0.5, n = 20))\n",
       " (model = :basic, counts = Pair{Symbol,Int64}[:S=>25, :I=>4, :R=>3, :D=>23], params = (ρ = 0.48268090336864783, μ = 0.5, n = 20))\n",
       " (model = :basic, counts = Pair{Symbol,Int64}[:S=>25, :I=>1, :R=>6, :D=>23], params = (ρ = 0.5433638283919031, μ = 0.5, n = 20)) \n",
       " (model = :basic, counts = Pair{Symbol,Int64}[:S=>32, :I=>1, :R=>7, :D=>15], params = (ρ = 0.5993517592049401, μ = 0.5, n = 20)) \n",
       " ⋮                                                                                                                               \n",
       " (model = :basic, counts = Pair{Symbol,Int64}[:S=>31, :I=>0, :R=>0, :D=>24], params = (ρ = 0.36525188152288274, μ = 0.5, n = 20))\n",
       " (model = :basic, counts = Pair{Symbol,Int64}[:S=>25, :I=>2, :R=>1, :D=>27], params = (ρ = 0.2613667839621281, μ = 0.5, n = 20)) \n",
       " (model = :basic, counts = Pair{Symbol,Int64}[:S=>26, :I=>2, :R=>2, :D=>25], params = (ρ = 0.30682979160128887, μ = 0.5, n = 20))\n",
       " (model = :basic, counts = Pair{Symbol,Int64}[:S=>18, :I=>3, :R=>0, :D=>34], params = (ρ = 0.29899016512669696, μ = 0.5, n = 20))\n",
       " (model = :basic, counts = Pair{Symbol,Int64}[:S=>18, :I=>2, :R=>0, :D=>35], params = (ρ = 0.1846699296522637, μ = 0.5, n = 20)) \n",
       " (model = :basic, counts = Pair{Symbol,Int64}[:S=>43, :I=>3, :R=>3, :D=>6], params = (ρ = 0.8070976552108202, μ = 0.5, n = 20))  \n",
       " (model = :basic, counts = Pair{Symbol,Int64}[:S=>23, :I=>4, :R=>0, :D=>28], params = (ρ = 0.26931012671150223, μ = 0.5, n = 20))\n",
       " (model = :basic, counts = Pair{Symbol,Int64}[:S=>28, :I=>4, :R=>1, :D=>22], params = (ρ = 0.36873495333011685, μ = 0.5, n = 20))\n",
       " (model = :basic, counts = Pair{Symbol,Int64}[:S=>15, :I=>0, :R=>0, :D=>40], params = (ρ = 0.12213290948519534, μ = 0.5, n = 20))\n",
       " (model = :basic, counts = Pair{Symbol,Int64}[:S=>22, :I=>7, :R=>8, :D=>18], params = (ρ = 0.5454081830987224, μ = 0.5, n = 20)) \n",
       " (model = :basic, counts = Pair{Symbol,Int64}[:S=>39, :I=>1, :R=>0, :D=>15], params = (ρ = 0.6719044782578342, μ = 0.5, n = 20)) \n",
       " (model = :basic, counts = Pair{Symbol,Int64}[:S=>41, :I=>1, :R=>1, :D=>12], params = (ρ = 0.6156843337246746, μ = 0.5, n = 20)) "
      ]
     },
     "execution_count": 312,
     "metadata": {},
     "output_type": "execute_result"
    }
   ],
   "source": [
    "P.results[2][1]"
   ]
  },
  {
   "cell_type": "code",
   "execution_count": 313,
   "metadata": {
    "slideshow": {
     "slide_type": "skip"
    }
   },
   "outputs": [
    {
     "data": {
      "text/plain": [
       "(β = [-46.7652, 113.729, -101.466, 35.2471], r = 34.7260830119815, n = 100)"
      ]
     },
     "execution_count": 313,
     "metadata": {},
     "output_type": "execute_result"
    }
   ],
   "source": [
    "#Pipelines.run!(P)\n",
    "P.results[end][2]"
   ]
  },
  {
   "cell_type": "markdown",
   "metadata": {
    "slideshow": {
     "slide_type": "skip"
    }
   },
   "source": [
    "Here is the data we observed when running the first stage of the pipeline, stage two fits a polynomial to these observations"
   ]
  },
  {
   "cell_type": "code",
   "execution_count": 314,
   "metadata": {
    "lines_to_next_cell": 2,
    "slideshow": {
     "slide_type": "skip"
    }
   },
   "outputs": [],
   "source": [
    "table = map(x->(round(x.params.ρ, digits=4), last(x.counts[end])), P.results[2][1]) |> sort\n",
    "try \n",
    "    using Plots\n",
    "catch\n",
    "    @warn \"Plotting is not available, make a table\"\n",
    "    for t in table\n",
    "        println(join(t, \"\\t\"))\n",
    "    end\n",
    "end"
   ]
  },
  {
   "cell_type": "markdown",
   "metadata": {
    "slideshow": {
     "slide_type": "skip"
    }
   },
   "source": [
    "## Results\n",
    "\n",
    "The regression model that we have trained based on the simulated data from the SIRD model with population growth can be presented as a polynomial sampled over the domain. We construct this table to show the nonlinear dependence of the model on the recovery parameter $\\rho$. The best fitting polynomial is shown below."
   ]
  },
  {
   "cell_type": "code",
   "execution_count": 315,
   "metadata": {},
   "outputs": [
    {
     "data": {
      "text/plain": [
       "4-element Array{Pair{Symbol,Int64},1}:\n",
       " :S => 18\n",
       " :I => 0 \n",
       " :R => 0 \n",
       " :D => 37"
      ]
     },
     "execution_count": 315,
     "metadata": {},
     "output_type": "execute_result"
    }
   ],
   "source": [
    "P.results[2][1][5].counts"
   ]
  },
  {
   "cell_type": "markdown",
   "metadata": {
    "slideshow": {
     "slide_type": "slide"
    }
   },
   "source": [
    "## Results\n",
    "\n",
    "- The pipeline produces a regression polynomial\n",
    "- This shows the nonlinear dependence of the model on the recovery rate $\\rho$"
   ]
  },
  {
   "cell_type": "code",
   "execution_count": 316,
   "metadata": {
    "slideshow": {
     "slide_type": "skip"
    }
   },
   "outputs": [
    {
     "name": "stdout",
     "output_type": "stream",
     "text": [
      "ρ\tf(ρ,β)\n",
      "==============\n",
      "0.00\t 35.247\n",
      "0.05\t 35.007\n",
      "0.10\t 34.342\n",
      "0.15\t 33.324\n",
      "0.20\t 32.023\n",
      "0.25\t 30.500\n",
      "0.30\t 28.807\n",
      "0.35\t 26.992\n",
      "0.40\t 25.094\n",
      "0.45\t 23.146\n",
      "0.50\t 21.174\n",
      "0.55\t 19.196\n",
      "0.60\t 17.224\n",
      "0.65\t 15.263\n",
      "0.70\t 13.310\n",
      "0.75\t 11.355\n",
      "0.80\t  9.383\n",
      "0.85\t  7.370\n",
      "0.90\t  5.286\n",
      "0.95\t  3.092\n",
      "1.00\t  0.745\n",
      "β: [-46.7652, 113.729, -101.466, 35.2471]\n",
      ".+(β[1] .* x .^ 4, β[2] .* x .^ 3, β[3] .* x .^ 2, β[4] .* x .^ 0)\n"
     ]
    }
   ],
   "source": [
    "using Printf\n",
    "eval(:(f(x,β) = $(poly(P.steps[2]))))\n",
    "xdomain = (0.0:0.05:1.0)\n",
    "println(\"ρ\\tf(ρ,β)\\n==============\")\n",
    "xŷ = zip(xdomain, f(xdomain, P.results[end][2].β))\n",
    "z = collect(map(x->(@sprintf(\"%0.2f\", x[1]),\n",
    "                    @sprintf(\"%7.3f\", x[2])),\n",
    "        xŷ))\n",
    "for t in z\n",
    "    println(join(t, \"\\t\"))\n",
    "end\n",
    "\n",
    "using Plots\n",
    "\n",
    "p = scatter(first.(table), last.(table), label=\"obs\")\n",
    "plot!(first.(xŷ), last.(xŷ), label=\"fit\")\n",
    "xlabel!(p, \"Probability of Recovery\")\n",
    "ylabel!(p, \"Deaths\")\n",
    "println(\"β: \", P.results[end][2].β, \"\\n\", string(poly(P.steps[2])))\n",
    "p\n",
    "savefig(p, \"deaths.png\")"
   ]
  },
  {
   "cell_type": "markdown",
   "metadata": {
    "slideshow": {
     "slide_type": "subslide"
    }
   },
   "source": [
    "## Deceased population\n",
    "The new pipeline: \n",
    "<img src=\"deaths.png\">"
   ]
  },
  {
   "cell_type": "markdown",
   "metadata": {
    "slideshow": {
     "slide_type": "skip"
    }
   },
   "source": [
    "## Conclusions\n",
    "\n",
    "This example shows that the SemanticModels approach to post-hoc modeling frameworks can enable metamodeling which is the combinations of model composed using different technologies into a coherent modeling workflow. Our ModelTools provides the basic building blocks for representing models and transformations in such a way that they transformations can be composed and models can be combined. Composition of transformations respects the combination of models. In this case the Product of transformation respects the Pipeline of models. Such that you can transform the models and then pipeline them, or pipeline them and then transform them.\n",
    "\n",
    "This example combined an agent based model of SIR diseases with a statistical model of polynomial regression to quantify the response of the agent based model with respect to one of its parameters. The input models have to be composed carefully in order to make the software work.\n",
    "\n",
    "As taught by the scientific computing education group [Software Carpentry](https://swcarpentry.github.io/), the best practice for composing scientific models is to have each component write files to disk and then use a workflow tool such as [Make](https://swcarpentry.github.io/make-novice/) to orchestrate the execution of the modeling scripts.\n",
    "\n",
    "An alternative approach is to design modeling frameworks for representing the models. The problem with this avenue becomes apparent when models are composed. The frameworks must be interoperable in order to make combined models. ModelTools avoids this problem by representing the models as code and manipulating the codes. The interoperation of two models is defined by user supplied functions in a fully featured programming language. \n",
    "\n",
    "SemanticModels.jl also provides transformations on these models that are grounded in category theory and abstract algebra. The concepts of category theory such as Functors and Product Categories allow us to build a general framework fit for any modeling task. In the language of category theory, the Pipelining functor on models commutes with the Product functor on transformations.\n",
    "\n",
    "This examples shows that metamodeling is feasible with SemanticModels and that the algebras of model transformations can be preserved when acting on metamodel workflows."
   ]
  },
  {
   "cell_type": "code",
   "execution_count": null,
   "metadata": {},
   "outputs": [],
   "source": []
  },
  {
   "cell_type": "code",
   "execution_count": null,
   "metadata": {},
   "outputs": [],
   "source": []
  }
 ],
 "metadata": {
  "jupytext": {
   "cell_metadata_filter": "-all",
   "encoding": "# -*- coding: utf-8 -*-",
   "main_language": "julia",
   "notebook_metadata_filter": "-all",
   "text_representation": {
    "extension": ".jl",
    "format_name": "light"
   }
  },
  "kernelspec": {
   "display_name": "Julia 1.0.2",
   "language": "julia",
   "name": "julia-1.0"
  },
  "language_info": {
   "file_extension": ".jl",
   "mimetype": "application/julia",
   "name": "julia",
   "version": "1.0.2"
  }
 },
 "nbformat": 4,
 "nbformat_minor": 2
}
