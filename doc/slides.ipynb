{
 "cells": [
  {
   "cell_type": "raw",
   "metadata": {
    "slideshow": {
     "slide_type": "skip"
    }
   },
   "source": [
    "---\n",
    "author: James Fairbanks\n",
    "title: SemanticModels.jl: Not Just Another Modeling Framework\n",
    "date: Jul 24, 2019\n",
    "---"
   ]
  },
  {
   "cell_type": "markdown",
   "metadata": {
    "slideshow": {
     "slide_type": "slide"
    }
   },
   "source": [
    "# SemanticModels.jl: Not Just Another Modeling Framework\n",
    "*James Fairbanks* & Christine Herlihy\n",
    "\n",
    "JuliaCon2019\n",
    "\n",
    "<center>\n",
    "    <img src=\"src/img/semanticmodels_jl.dot.svg\"></img>\n",
    "</center>\n",
    "\n",
    "- Teaching computers to do science\n",
    "- Project Repo [github.com/jpfairbanks/SemanticModels.jl](github.com/jpfairbanks/SemanticModels.jl)"
   ]
  },
  {
   "cell_type": "markdown",
   "metadata": {
    "slideshow": {
     "slide_type": "slide"
    }
   },
   "source": [
    "## Scientific Modeling\n",
    "\n",
    "- Scientists make models out of math\n",
    "- Models need to be implemented as code\n",
    "- When you change the math, you need to change the code!\n"
   ]
  },
  {
   "cell_type": "markdown",
   "metadata": {
    "slideshow": {
     "slide_type": "skip"
    }
   },
   "source": [
    "## Science as nested optimization\n",
    "\n",
    "Fitting the data is a regression problem:\n",
    "\n",
    "$$\\min_{h\\in {H}} \\ell(h(x), y)$$ "
   ]
  },
  {
   "cell_type": "markdown",
   "metadata": {
    "slideshow": {
     "slide_type": "skip"
    }
   },
   "source": [
    "Institutional process of discovery is\n",
    "\n",
    "$$\\max_{{H}\\in \\mathcal{M}} expl(h^*)$$ where *expl* is the explanatory power of a class of models $H$. \n",
    "\n",
    "- The explanatory power is some combination of \n",
    "    - generalization,\n",
    "    - parsimony,\n",
    "    - and consistency with the fundamental principles of the field."
   ]
  },
  {
   "cell_type": "markdown",
   "metadata": {
    "slideshow": {
     "slide_type": "slide"
    }
   },
   "source": [
    "## Modeling Frameworks\n",
    "\n",
    "Most frameworks are designed before the models are written\n",
    "\n",
    "| Framework | Math | Input Specification  | Description |\n",
    "|-----------|------|----------|-------------|\n",
    "| <img width=\"50px\" src=\"https://www.mathworks.com/content/dam/mathworks/mathworks-dot-com/images/ico_membrane_128.png\"> Matlab/Scipy</img> | x = A\\b | BLAS + scripting | Sci/Eng math is all BLAS| \n",
    "| <img width=\"50px\" src=\"https://upload.wikimedia.org/wikipedia/commons/thumb/2/20/Mathematica_Logo.svg/1920px-Mathematica_Logo.svg.png\"> Mathematica</img> |$p(x)=0$|Symbolic Math Expressions| Computer Algebra Systems|\n",
    "| <img width=\"50px\" src=\"https://mc-stan.org/docs/2_18/stan-users-guide/img/logo-tm.png\" alt=\"Stan Logo\">Stan</img> | $ y \\sim \\mathcal{N}(x \\beta + \\alpha, \\sigma)$ | StanML | Bayesian Inference|\n",
    "| <img src=\"https://camo.githubusercontent.com/31d60f762b44d0c3ea47cc16b785e042104a6e03/68747470733a2f2f7777772e6a756c69616f70742e6f72672f696d616765732f6a756d702d6c6f676f2d776974682d746578742e737667\" alt=\"jump\"></img> | $\\min_{x\\perp C(x)} f(x)$ | AMPL based DSL| Optimization Problems |\n",
    "| ![TensorFlow](https://www.gstatic.com/devrel-devsite/va3a0eb1ff00a004a87e2f93101f27917d794beecfd23556fc6d8627bba2ff3cf/tensorflow/images/lockup.svg) | $y\\approx f(x)$ | TF.Graph| Deep Learning|\n",
    "| <img width=\"75px\" src=\"http://aske.gtri.gatech.edu/docs/latest/img/semanticmodels_jl.dot.svg\">SemanticModels.jl</img> | All Computable Domains| Julia Programs | $Models \\subset Code$|\n",
    "\n",
    "SemanticModels is a post hoc modeling framework"
   ]
  },
  {
   "cell_type": "markdown",
   "metadata": {
    "slideshow": {
     "slide_type": "skip"
    }
   },
   "source": [
    "## Modeling Frameworks\n",
    "\n",
    "Most frameworks are designed before the models are written\n",
    "\n",
    "|Domain | <p></p> | <p></p> |\n",
    "|--|-----------|------|\n",
    "|Algebra | <img width=\"50px\" src=\"https://www.mathworks.com/content/dam/mathworks/mathworks-dot-com/images/ico_membrane_128.png\" alt=\"Matlab/Scipy\"></img>  | <img width=\"50px\" src=\"https://upload.wikimedia.org/wikipedia/commons/thumb/2/20/Mathematica_Logo.svg/1920px-Mathematica_Logo.svg.png\" alt=\"Mathematica\"></img> |\n",
    "|Learning | <img width=\"50px\" src=\"https://mc-stan.org/docs/2_18/stan-users-guide/img/logo-tm.png\" alt=\"Stan\"></img> |  ![TensorFlow](https://www.gstatic.com/devrel-devsite/va3a0eb1ff00a004a87e2f93101f27917d794beecfd23556fc6d8627bba2ff3cf/tensorflow/images/lockup.svg) |\n",
    "|Optimization | <img width=\"75px\" src=\"https://camo.githubusercontent.com/31d60f762b44d0c3ea47cc16b785e042104a6e03/68747470733a2f2f7777772e6a756c69616f70742e6f72672f696d616765732f6a756d702d6c6f676f2d776974682d746578742e737667\" alt=\"jump\"></img> | <img width=\"50px\" src=\"https://pbs.twimg.com/media/C7dmXwGXQAA47XE.jpg:large\" alt=\"CPLEX\"></img> |\n",
    "|Modeling | <img width=\"50px\" src=\"http://docs.juliadiffeq.org/latest/assets/logo.png\" alt=\"JuliaDiffeq\"></img> | <img width=\"75px\" src=\"http://aske.gtri.gatech.edu/docs/latest/img/semanticmodels_jl.dot.svg\"></img> |\n",
    "\n",
    "SemanticModels is a post hoc modeling framework"
   ]
  },
  {
   "cell_type": "markdown",
   "metadata": {
    "slideshow": {
     "slide_type": "slide"
    }
   },
   "source": [
    "# What is a Modeling Framework?\n",
    "\n",
    "1. Objects: $X,Y,Z$\n",
    "2. Models: $f:X\\rightarrow Y$, $g: Y\\rightarrow Z$\n",
    "3. Composition: $g\\circ f: X\\rightarrow Z$ \n",
    "4. Combination: $f\\otimes g: X\\otimes Y \\rightarrow Y\\otimes Z$\n",
    "5. Executability: $\\texttt{foo} = eval(f) \\implies \\texttt{foo(x::X)::Y}$ runs the model"
   ]
  },
  {
   "cell_type": "markdown",
   "metadata": {
    "slideshow": {
     "slide_type": "skip"
    }
   },
   "source": [
    "## Statistical / ML models are accurate\n",
    "\n",
    "Fitting curves to data is good, but doesn't explain the data.\n",
    "\n",
    "## Scientific Models are Mechanistic\n",
    "Mechanistic models are more explainable than black box or statistical models. They posit driving forces and natural laws\n",
    "that drive the evolution of systems over time.\n",
    "\n",
    "We call these *simulations* when necessary to distinguish from *model*\n",
    "\n",
    "- Benefits: more explainable, more generalizable\n",
    "- Cons: lower Accuracy, less flexible"
   ]
  },
  {
   "cell_type": "markdown",
   "metadata": {
    "slideshow": {
     "slide_type": "slide"
    }
   },
   "source": [
    "## Mathematical Diagrams are pervasive\n",
    "<center><img src=\"talks/bayesian_models.png\">Two perspectives on Bayesian Networks (Jacobs, Kissinger, and Zanasi, 2019)</img></center>"
   ]
  },
  {
   "cell_type": "markdown",
   "metadata": {
    "slideshow": {
     "slide_type": "slide"
    }
   },
   "source": [
    "# Scientists love diagrams\n",
    "<center>\n",
    "<img src=\"src/img/mathbio/SIS_otto.png\">The SIS Model (figure from A Biologist's guide to Mathematical Modeling in Ecology and Evolution By Sarah Otto and Troy Day 2007) \n",
    "</img>\n",
    "</center>"
   ]
  },
  {
   "cell_type": "markdown",
   "metadata": {
    "slideshow": {
     "slide_type": "slide"
    }
   },
   "source": [
    "## SIR model of disease\n",
    "<center>\n",
    "    <img src=\"src/img/cd/tikzit/sir_petri+ode.png\" width=\"80%\">The SIR model shown with equivalent Petri net and system of ODEs </img>\n",
    "</center>"
   ]
  },
  {
   "cell_type": "markdown",
   "metadata": {
    "slideshow": {
     "slide_type": "slide"
    }
   },
   "source": [
    "## SIR predicts real diseases\n",
    "\n",
    "<center>\n",
    "    <img src=\"src/img/srep42594-f1-cropped.png\">Ebola Outbreak Data</img>\n",
    "</center>\n",
    "\n",
    "- (a) Cumulative number of infected individuals as a function of time (day) for the three countries Guinea, Liberia and Sierra Leone. \n",
    "\n",
    "- A Khalequea, and P Senb, \"An empirical analysis of the Ebola outbreak in West Africa\" 2017"
   ]
  },
  {
   "cell_type": "markdown",
   "metadata": {
    "slideshow": {
     "slide_type": "slide"
    }
   },
   "source": [
    "## ODE Based Implementation\n",
    "\n",
    "This is a \"real world\" implementation of SIR modeling in Julia taken from Epirecipes Cookbook (Simon Frost)\n",
    "\n",
    "```julia\n",
    "module SIRModel\n",
    "using DifferentialEquations\n",
    "\n",
    "function sir_ode(du, u, p, t)\n",
    "    #Infected per-Capita Rate\n",
    "    β = p[1]\n",
    "    #Recover per-capita rate\n",
    "    γ = p[2]\n",
    "    #Susceptible Individuals\n",
    "    S = u[1]\n",
    "    #Infected Individuals\n",
    "    I = u[2]\n",
    "    du[1] = -β * S * I\n",
    "    du[2] = β * S * I - γ * I\n",
    "    du[3] = γ * I\n",
    "end\n",
    "\n",
    "#Param = (Infected Per Capita Rate, Recover Per Capita Rate)\n",
    "param = [0.1,0.05]\n",
    "#Initial Params = (Susceptible Individuals, Infected by Infected Individuals)\n",
    "init = [0.99,0.01,0.0]\n",
    "tspan = (0.0,200.0)\n",
    "\n",
    "sir_prob = ODEProblem(sir_ode, init, tspan, param)\n",
    "\n",
    "sir_sol = solve(sir_prob, saveat = 0.1);\n",
    "```"
   ]
  },
  {
   "cell_type": "markdown",
   "metadata": {
    "slideshow": {
     "slide_type": "skip"
    }
   },
   "source": [
    "## Julia Programs as a Category\n",
    "\n",
    "1. $Ob(C) = Types$\n",
    "2. $Hom_C(S,T) = S\\rightarrow T$ functions\n",
    "\n",
    "![Julia Types SIR](src/img/types_sir.dot.png)"
   ]
  },
  {
   "cell_type": "markdown",
   "metadata": {
    "slideshow": {
     "slide_type": "slide"
    }
   },
   "source": [
    "### Agent based simulation\n",
    "\n",
    "\n",
    "```julia\n",
    "\"\"\" Agent Models is a hypothetical ABM framework\"\"\"\n",
    "module AgentModels\n",
    "\n",
    "abstract type AgentModel end\n",
    "mutable struct StateModel{T} <: AgentModel\n",
    "    states::Vector{Symbol}\n",
    "    data::T\n",
    "    events::Vector{Function}\n",
    "    rates::Vector{Number}\n",
    "end\n",
    "\n",
    "solve(m::StateModel) = return thesolution(m)\n",
    "end\n",
    "```"
   ]
  },
  {
   "cell_type": "markdown",
   "metadata": {
    "slideshow": {
     "slide_type": "slide"
    }
   },
   "source": [
    "```julia\n",
    "using AgentModels #hypothetical ABM framework\n",
    "\n",
    "function main(nsteps)\n",
    "    function infection(s)\n",
    "        if s.S > 0 && s.I > 0\n",
    "            s.S -= 1\n",
    "            s.I -= 1\n",
    "            s.I += 2\n",
    "        end\n",
    "    end\n",
    "    function recovery(s)\n",
    "        if s.I > 0\n",
    "            s.I -= 1\n",
    "            s.R += 1\n",
    "        end\n",
    "    end\n",
    "    states = [:S, :I, :R]\n",
    "    a = zeros(Int, states)\n",
    "    ρ = 0.5 + randn(Float64)/4 # chance of recovery\n",
    "    μ = 0.5 # chance of immunity\n",
    "    T = [infection, recovery]\n",
    "    prob = StateModel(states, a, T, [ρ, μ])\n",
    "    soln = solve!(sam, nsteps)\n",
    "    return soln\n",
    "end\n",
    "```"
   ]
  },
  {
   "cell_type": "markdown",
   "metadata": {
    "slideshow": {
     "slide_type": "slide"
    }
   },
   "source": [
    "## Model Augmentation as a Lens\n",
    "\n",
    "We want scientists to program using lenses\n",
    "<center>\n",
    "    <img src=\"src/img/cd/model_lens.png\">Module Augmentation as a Lens</img>\n",
    "</center>\n",
    "\n",
    "*What should the $M_1, M_2$ be*?"
   ]
  },
  {
   "cell_type": "markdown",
   "metadata": {
    "slideshow": {
     "slide_type": "slide"
    }
   },
   "source": [
    "## A Story of an Infectious Disease\n",
    "<center>\n",
    "<img src=\"./src/img/mathbio/wiring/seir.svg\"></img>\n",
    "</center>"
   ]
  },
  {
   "cell_type": "markdown",
   "metadata": {
    "slideshow": {
     "slide_type": "subslide"
    }
   },
   "source": [
    "## A Story of an Infectious Disease\n",
    "\n",
    "<center>\n",
    "<img src=\"./src/img/mathbio/wiring/seird.svg\"></img>\n",
    "</center>"
   ]
  },
  {
   "cell_type": "markdown",
   "metadata": {
    "slideshow": {
     "slide_type": "subslide"
    }
   },
   "source": [
    "## A Story of an Infectious Disease\n",
    "\n",
    "<center>\n",
    "<img src=\"./src/img/mathbio/wiring/seirds.svg\"></img>\n",
    "</center>"
   ]
  },
  {
   "cell_type": "markdown",
   "metadata": {
    "slideshow": {
     "slide_type": "subslide"
    }
   },
   "source": [
    "# Wiring Diagrams are a universal syntax\n",
    "<center>\n",
    "<img src=\"./talks/seirds_wire_petri.png\">Associate all wires with the same label to get a petri net</img>\n",
    "</center>"
   ]
  },
  {
   "cell_type": "markdown",
   "metadata": {
    "slideshow": {
     "slide_type": "slide"
    }
   },
   "source": [
    "## Petrinet SIR Model\n",
    "\n",
    "```julia\n",
    "using Petri\n",
    "\n",
    "function main()\n",
    "    @variables S, I, R\n",
    "    N = +(S,I,R)\n",
    "\n",
    "    Δ = [(S+I, 2I),\n",
    "         (I, R)]\n",
    "\n",
    "    m = Petri.Model(Δ)\n",
    "    p = Petri.Problem(m, SIRState(100, 1, 0), 50)\n",
    "    soln = Petri.solve(p)\n",
    "    (p, soln)\n",
    "end\n",
    "p, soln = main()\n",
    "\n",
    "```"
   ]
  },
  {
   "cell_type": "markdown",
   "metadata": {
    "slideshow": {
     "slide_type": "skip"
    }
   },
   "source": [
    "## Statistical Models\n",
    "\n",
    "Linear Regression is a model.\n",
    "```julia\n",
    "using LsqFit\n",
    "function f(x, β) \n",
    "    return β[1] .* x + β[2]\n",
    "end\n",
    "\n",
    "function main()\n",
    "    X = load_matrix(\"file_X.csv\")\n",
    "    target = load_vector(\"file_y.csv\")\n",
    "    a₀ = [1.0, 1.0]\n",
    "    \n",
    "    fit = curve_fit(f, X, target, a₀)\n",
    "    return fit\n",
    "end\n",
    "\n",
    "main()\n",
    "```"
   ]
  },
  {
   "cell_type": "markdown",
   "metadata": {
    "slideshow": {
     "slide_type": "skip"
    }
   },
   "source": [
    "<center><img src=\"src/img/workflow/img/crossval.svg\"></img></center>"
   ]
  },
  {
   "cell_type": "markdown",
   "metadata": {
    "slideshow": {
     "slide_type": "skip"
    }
   },
   "source": [
    "## Category Theory\n",
    "\n",
    "CT is the mathematics of structure preserving maps. Every field of math has a notion of *homomorphism* where two objects\n",
    "in that category *have similar structure*\n",
    "\n",
    "1. Sets, Groups, Fields, Rings\n",
    "2. Graphs\n",
    "3. Databases\n",
    "\n",
    "CT is the study of structure in its most general form."
   ]
  },
  {
   "cell_type": "markdown",
   "metadata": {
    "slideshow": {
     "slide_type": "skip"
    }
   },
   "source": [
    "## Categories as Objects and Morphisms\n",
    "\n",
    "1. Categories have Objects, $ Ob(C) $\n",
    "2. Morphisms are relations between objects $Hom_C(x,y)$\n",
    "3. There is always an identity morphism $id_x \\in Hom_C(x,y)$\n",
    "4. Morphisms Compose $f\\in Hom_C(x,y), g\\in Hom_C(y,z)$ then $g\\circ f \\in Hom_C(x,z)$ \n"
   ]
  },
  {
   "cell_type": "markdown",
   "metadata": {
    "slideshow": {
     "slide_type": "skip"
    }
   },
   "source": [
    "## Graphs as Categories\n",
    "\n",
    "### Each graph is a category\n",
    "- $ G = (V,E) $\n",
    "- $Ob(G) = V$\n",
    "- $Hom_G(v,u) = \\{(v\\leadsto u) \\in E\\}$\n",
    "\n",
    "<!--\\{e \\mid e\\in E, src(e)=v \\land dst(e)=u\\}$ -->\n",
    "\n",
    "### The category of graphs\n",
    "\n",
    "- Graph Homomorphism $f: G\\to H$ st $(v\\leadsto u) \\in G \\implies (f(v) \\leadsto f(u)) \\in H$\n",
    "- $Ob(Graph)$ is the set of all graphs\n",
    "- $Hom_{Graph}(G,H)$ is the set of all graph homomorphisms $G$ to $H$\n",
    "\n"
   ]
  },
  {
   "cell_type": "markdown",
   "metadata": {
    "slideshow": {
     "slide_type": "skip"
    }
   },
   "source": [
    "## Semantic Models Applies Category Theory\n",
    "\n",
    "A novel modeling environment that builds and manipulates models in this category theory approach.\n",
    "\n",
    "Contributions: \n",
    "1. We take general code as input\n",
    "2. Highly general and extensible framework\n",
    "3. Goal: Transformations are compositional"
   ]
  },
  {
   "cell_type": "markdown",
   "metadata": {
    "slideshow": {
     "slide_type": "skip"
    }
   },
   "source": [
    "## Converting Models between Categories\n",
    "Models can be represented in different categories, for example, SIR as an OLOG.\n",
    "![An SIR model structure](src/img/olog_sir.dot.svg)"
   ]
  },
  {
   "cell_type": "markdown",
   "metadata": {
    "slideshow": {
     "slide_type": "slide"
    }
   },
   "source": [
    "## Type Graphs\n",
    "1. The TypeGraph of a Julia Program tells you a lot about it\n",
    "2. Computers are good at type checking\n",
    "3. Can we embed our modeling semantics into the type system?\n",
    "\n",
    "\n",
    "![Julia Types SIR](src/img/types_sir.dot.png)"
   ]
  },
  {
   "cell_type": "markdown",
   "metadata": {
    "slideshow": {
     "slide_type": "skip"
    }
   },
   "source": [
    "\n",
    "![Resolving Type Ambiguities](src/img/type_ambig_resolve.png)"
   ]
  },
  {
   "cell_type": "markdown",
   "metadata": {
    "slideshow": {
     "slide_type": "slide"
    }
   },
   "source": [
    "# Structural Model Changes\n",
    "Modifying models using a Grammar of rewrite rules.\n",
    "\n",
    "Reasoning by analogy\n",
    "\n",
    "\n",
    "<img src=\"src/img/cd/rewrite_loop.png\" width=\"80%\">Double Push Outs over structured cospans (figure from Cicala, 2019) \n",
    "</img>\n"
   ]
  },
  {
   "cell_type": "markdown",
   "metadata": {
    "slideshow": {
     "slide_type": "slide"
    }
   },
   "source": [
    "## Petrinet Model\n",
    "\n",
    "```julia\n",
    "using Petri\n",
    "\n",
    "function main()\n",
    "    @variables S, I, R\n",
    "    N = +(S,I,R)\n",
    "\n",
    "    Δ = [(S+I, 2I),\n",
    "        (I, R),]\n",
    "\n",
    "    m = Petri.Model(Δ)\n",
    "    p = Petri.Problem(m, SIRState(100, 1, 0), 50)\n",
    "    soln = Petri.solve(p)\n",
    "    (p, soln)\n",
    "end\n",
    "p, soln = main()\n",
    "```"
   ]
  },
  {
   "cell_type": "markdown",
   "metadata": {
    "slideshow": {
     "slide_type": "slide"
    }
   },
   "source": [
    "\n",
    "## SIR -> SIRS\n",
    "![SIR model](src/img/cd/tikzit/rule_sir_sirs.png)"
   ]
  },
  {
   "cell_type": "markdown",
   "metadata": {
    "slideshow": {
     "slide_type": "slide"
    }
   },
   "source": [
    "## SIRS model as code\n",
    "\n",
    "```julia\n",
    "using Petri\n",
    "\n",
    "function main()\n",
    "    @variables S, I, R\n",
    "    N = +(S,I,R)\n",
    "\n",
    "    Δ = [(S+I, 2I),\n",
    "        (I, R),\n",
    "        (R, S)]\n",
    "\n",
    "    m = Petri.Model(Δ)\n",
    "    p = Petri.Problem(m, SIRState(100, 1, 0), 50)\n",
    "    soln = Petri.solve(p)\n",
    "    (p, soln)\n",
    "end\n",
    "p, soln = main()\n",
    "```"
   ]
  },
  {
   "cell_type": "markdown",
   "metadata": {
    "slideshow": {
     "slide_type": "slide"
    }
   },
   "source": [
    "\n",
    "![An more refined ABM](src/img/cd/tikzit/sir_dpo.png)"
   ]
  },
  {
   "cell_type": "markdown",
   "metadata": {
    "slideshow": {
     "slide_type": "slide"
    }
   },
   "source": [
    "## Software Interface for Rewriting Models\n",
    "```julia\n",
    "states = [S, I, R]\n",
    "\n",
    "sir = Petri.Model(states,[(I, R), (S+I, 2I)])\n",
    "ir = Petri.Model(states, [(I, R)])\n",
    "seir = Petri.Model(states, [(I, R), (S+I, I+E), (E, I)])\n",
    "rule = Span(sir, ir, seir)\n",
    "\n",
    "# the root of the bottom of DPO\n",
    "irs = Petri.Model(states, [(I, R), (R, S)])\n",
    "\n",
    "sirs, seirs = solve(DPOProblem(rule, irs))\n",
    "```\n"
   ]
  },
  {
   "cell_type": "markdown",
   "metadata": {
    "slideshow": {
     "slide_type": "slide"
    }
   },
   "source": [
    "## Rewriting Models is a modeling framework\n",
    "\n",
    "<center>\n",
    "    <img src=\"src/img/workflow/img/rewrite.svg\">\n",
    "    We can recursively define a modeling framework for modeling frameworks!\n",
    "    </img>\n",
    "</center>"
   ]
  },
  {
   "cell_type": "markdown",
   "metadata": {
    "slideshow": {
     "slide_type": "skip"
    }
   },
   "source": [
    "## Rewriting Models is a modeling framework\n",
    "You can build up complex rewriting operations from simple ones.\n",
    "<center>\n",
    "    <img src=\"src/img/workflow/img/rewrite_twice.svg\">\n",
    "    A diagram of applying two rewrite rules. Can you taste the parenthesis?\n",
    "    </img>\n",
    "</center>"
   ]
  },
  {
   "cell_type": "markdown",
   "metadata": {
    "slideshow": {
     "slide_type": "slide"
    }
   },
   "source": [
    "## SEIRS Model as Declarative Code\n",
    "\n",
    "```julia\n",
    "using Petri\n",
    "\n",
    "function SEIRSmain()\n",
    "    @variables S, E, I, R\n",
    "    N = +(S,E,I,R)\n",
    "\n",
    "    Δ = [(S+I, I+E),\n",
    "         (E, I),\n",
    "         (I, R),\n",
    "         (R, S) \n",
    "    ]\n",
    "\n",
    "    m = Petri.Model(Δ)\n",
    "    p = Petri.Problem(m, SEIRState(100, 0, 1, 0), 150)\n",
    "    soln = Petri.solve(p)\n",
    "    (p, soln)\n",
    "end\n",
    "p, soln = SEIRSmain()\n",
    "\n",
    "```"
   ]
  },
  {
   "cell_type": "markdown",
   "metadata": {
    "slideshow": {
     "slide_type": "slide"
    }
   },
   "source": [
    "## SEIRS Model as Imperative Code\n",
    "```julia\n",
    " :(##δ#754(state) = begin\n",
    "          begin\n",
    "              begin\n",
    "                  state.I > 0 || return nothing\n",
    "                  state.I -= 1\n",
    "              end\n",
    "              state.R += 1\n",
    "          end\n",
    "      end)                                                                                                                                                        \n",
    " :(##δ#755(state) = begin\n",
    "          begin\n",
    "              begin\n",
    "                  state.S > 0 || return nothing\n",
    "                  state.I > 0 || return nothing\n",
    "                  state.S -= 1\n",
    "                  state.I -= 1\n",
    "              end\n",
    "              begin\n",
    "                  state.I += 1\n",
    "                  state.E += 1\n",
    "              end\n",
    "          end\n",
    "      end)\n",
    " :(##δ#756(state) = begin\n",
    "          begin\n",
    "              begin\n",
    "                  state.E > 0 || return nothing\n",
    "                  state.E -= 1\n",
    "              end\n",
    "              state.I += 1\n",
    "          end\n",
    "      end)                                                                                                                                                        \n",
    " :(##δ#757(state) = begin\n",
    "          begin\n",
    "              begin\n",
    "                  state.R > 0 || return nothing\n",
    "                  state.R -= 1\n",
    "              end\n",
    "              state.S += 1\n",
    "          end\n",
    "end)                            \n",
    "```"
   ]
  },
  {
   "cell_type": "markdown",
   "metadata": {
    "slideshow": {
     "slide_type": "skip"
    }
   },
   "source": [
    "## Compiler / Disassembler\n",
    "<center>\n",
    "    <img src=\"src/img/cd/tikzit/model_lens_2.png\">Module Augmentation as a Lens</img>\n",
    "</center>\n"
   ]
  },
  {
   "cell_type": "markdown",
   "metadata": {
    "slideshow": {
     "slide_type": "skip"
    }
   },
   "source": [
    "## SEIRS Model as x86 Assembly\n",
    "A tiny portion of the model!\n",
    "\n",
    "```\n",
    "\t.section\t__TEXT,__text,regular,pure_instructions\n",
    "; Function ##δ#788 {\n",
    "; Location: rewrite.jl:127\n",
    "; Function getproperty; {\n",
    "; Location: rewrite.jl:148\n",
    "\tdecl\t%eax\n",
    "\tmovl\t8(%esi), %eax\n",
    ";}\n",
    "; Function >; {\n",
    "; Location: operators.jl:286\n",
    "; Function <; {\n",
    "; Location: int.jl:49\n",
    "\tdecl\t%eax\n",
    "\ttestl\t%eax, %eax\n",
    ";}}\n",
    "\tjle\tL37\n",
    "; Function -; {\n",
    "; Location: int.jl:52\n",
    "\tdecl\t%eax\n",
    "\taddl\t$-1, %eax\n",
    ";}\n",
    "; Function setproperty!; {\n",
    "; Location: sysimg.jl:19\n",
    "\tdecl\t%eax\n",
    "\tmovl\t%eax, 8(%esi)\n",
    ";}\n",
    "; Function getproperty; {\n",
    "; Location: sysimg.jl:18\n",
    "\tdecl\t%eax\n",
    "\tmovl\t16(%esi), %eax\n",
    ";}\n",
    "; Function +; {\n",
    "; Location: int.jl:53\n",
    "\tdecl\t%eax\n",
    "\taddl\t$1, %eax\n",
    ";}\n",
    "; Function setproperty!; {\n",
    "; Location: sysimg.jl:19\n",
    "\tdecl\t%eax\n",
    "\tmovl\t%eax, 16(%esi)\n",
    ";}\n",
    "\tdecl\t%eax\n",
    "\tmovl\t%eax, (%edi)\n",
    "\tmovb\t$2, %dl\n",
    "\txorl\t%eax, %eax\n",
    "\tretl\n",
    "L37:\n",
    "\tmovb\t$1, %dl\n",
    "\txorl\t%eax, %eax\n",
    "; Location: rewrite.jl:127\n",
    "\tretl\n",
    "\tnopw\t(%eax,%eax)\n",
    ";}\n",
    "```"
   ]
  },
  {
   "cell_type": "markdown",
   "metadata": {
    "slideshow": {
     "slide_type": "skip"
    }
   },
   "source": [
    "## Compiling Petri.Model to ODEProblem\n",
    "```julia\n",
    "f(du, state, p, t) = begin\n",
    "    du.S = (-p[1] * (((state.β * state.S) * state.I) \n",
    "                      / ((state.S + state.I) + state.R))) \n",
    "            + p[3] * (state.μ * state.R)\n",
    "    \n",
    "    du.I = (p[1] * (((state.β * state.S) * state.I) \n",
    "                      / ((state.S + state.I) + state.R))) \n",
    "            + -p[2] * (state.γ * state.I)\n",
    "    \n",
    "    du.R = ((p[2] * (state.γ * state.I)) \n",
    "            + -p[3] * (state.μ * state.R))\n",
    "end\n",
    "\n",
    "function main()\n",
    "  param = [0.1,0.05]\n",
    "  init = [0.99,0.01,0.0]\n",
    "  tspan = (0.0,200.0)\n",
    "\n",
    "  prob = ODEProblem(f, init, tspan, param)\n",
    "\n",
    "  sol = solve(prob);\n",
    "end\n",
    "\n",
    "```"
   ]
  },
  {
   "cell_type": "markdown",
   "metadata": {
    "slideshow": {
     "slide_type": "skip"
    }
   },
   "source": [
    "## SIRD Model\n",
    "\n",
    "```julia\n",
    "using Petri\n",
    "\n",
    "function SIRDmain()\n",
    "    @variables S, I, R, D\n",
    "    N = +(S,E,I,R, D)\n",
    "\n",
    "    Δ = [(S+I, 2I),\n",
    "         (I, R),\n",
    "         (R, S),\n",
    "         (I, D)\n",
    "    ]\n",
    "\n",
    "    m = Petri.Model(Δ)\n",
    "    p = Petri.Problem(m, SIRDState(100, 1, 0, 0), 150)\n",
    "    soln = Petri.solve(p)\n",
    "    (p, soln)\n",
    "end\n",
    "p, soln = SIRDmain()\n",
    "```"
   ]
  },
  {
   "cell_type": "markdown",
   "metadata": {
    "slideshow": {
     "slide_type": "skip"
    }
   },
   "source": [
    "## SIRD Model with Birth Process\n",
    "\n",
    "```julia\n",
    "using Petri\n",
    "\n",
    "function BSEIRDmain()\n",
    "    @variables S, E, I, R, β, γ, μ, D, ψ\n",
    "    N = +(S,E,I,R)\n",
    "\n",
    "    Δ = [(S~S-1, I~I+1),\n",
    "         (I~I-1, R~R+1),\n",
    "         (R~R-1, S~S+1),\n",
    "         (I~I-1, D~D+1),\n",
    "         (S~S+1,) # birth process\n",
    "     ]\n",
    "\n",
    "    Λ = [β*S*I/N,\n",
    "         γ*I,\n",
    "         μ*R,\n",
    "         ψ*I,\n",
    "         ν*S # birth rate\n",
    "    ]\n",
    "\n",
    "    m = Petri.Model(Δ, Λ)\n",
    "    p = Petri.Problem(m, BSIRDState(100, 1, 0, 0.5, 0.15, 0.05, 0, 0.1, 0.1), 150)\n",
    "    soln = Petri.solve(p)\n",
    "    (p, soln)\n",
    "end\n",
    "p, soln = BSEIRDmain()\n",
    "\n",
    "```"
   ]
  },
  {
   "cell_type": "markdown",
   "metadata": {
    "slideshow": {
     "slide_type": "slide"
    }
   },
   "source": [
    "# Modeling Frameworks\n",
    "\n",
    "![](src/img/mathbio/final_juliacon.png)"
   ]
  },
  {
   "cell_type": "markdown",
   "metadata": {
    "slideshow": {
     "slide_type": "slide"
    }
   },
   "source": [
    "# Lenses + Rewriting\n",
    "\n",
    "<center><img src=\"talks/lens+dpo.svg\"></img></center>"
   ]
  },
  {
   "cell_type": "markdown",
   "metadata": {
    "slideshow": {
     "slide_type": "slide"
    }
   },
   "source": [
    "# Conclusion\n",
    "\n",
    "1. SemanticModels.jl github.com/jpfairbanks/SemanticModels.jl is a foundational technology for teaching machines to reason about scientific models\n",
    "\n",
    "2. SemanticModels.jl combines DPO rewriting with Lenses for model augmentation **for science!**\n",
    "\n",
    "3. $SemanticModels = Codification \\circ Categorification \\circ Science $"
   ]
  },
  {
   "cell_type": "markdown",
   "metadata": {
    "slideshow": {
     "slide_type": "fragment"
    }
   },
   "source": [
    "## Open Questions\n",
    "\n",
    "1. Which scientific modeling frameworks can we represent? \n",
    "2. How can we compute rewriting for general frameworks?\n",
    "3. What other modeling activities can we formalize?\n"
   ]
  },
  {
   "cell_type": "markdown",
   "metadata": {
    "slideshow": {
     "slide_type": "slide"
    }
   },
   "source": [
    "# Acknowledgements\n",
    "![Acknowledgements](src/img/Acknowledgements_ASKE.png)"
   ]
  }
 ],
 "metadata": {
  "kernelspec": {
   "display_name": "Julia 1.0.2",
   "language": "julia",
   "name": "julia-1.0"
  },
  "language_info": {
   "file_extension": ".jl",
   "mimetype": "application/julia",
   "name": "julia",
   "version": "1.0.2"
  }
 },
 "nbformat": 4,
 "nbformat_minor": 2
}
